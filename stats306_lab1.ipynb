{
 "cells": [
  {
   "cell_type": "markdown",
   "metadata": {},
   "source": [
    "# Lab 1: Installing Jupyter Notebook and Diving into ggplot\n",
    "#### Instructor: Yilei Zhang\n",
    "Partial notes refer to Byoungwook Jang. \n",
    "\n",
    "# Office Hours\n",
    "\n",
    "| Person                  | Uniqname | Office Hours       | Lecture      |\n",
    "|-------------------------|----------|--------------|---------------|\n",
    "| Prof. Kean Ming Tan     | keanming | Mon 3:00-4:30pm (Zoom) <br/>Th 4:00-4:30pm (in person - non-homework) | Tu/Th 2:30-3:50pm  |\n",
    "| Yanxin Jin             | yanxinj  |   Wed 6:30-7:30pm (Zoom)         | Tue 5:30-7:00pm           |\n",
    "| Juejue Wang             | juejuew     |     Mon 9:00-10:00am (Zoom)         | Wed 8:30-10:00am           |\n",
    "| Yilei Zhang             | yileizh     |  Tue 8:30-9:30am (Zoom)         | Wed 1:00-2:30pm           |\n",
    "| Holly Palmer             | palmerh   | Wed 10:00-11:00am (Zoom)         | Wed 2:30-4:00pm           |\n",
    "\n",
    "    \n",
    "## Contact\n",
    "    homework and lecture question: piazza\n",
    "    Personal / confidential question: email me with title starting [STATS 306]\n",
    "    Email: yileizh@umich.edu\n",
    "    \n",
    "    \n",
    "## Lab Structure\n",
    "    Note are available at GitHubpage: \n",
    "    \n",
    "## Expectations from the lab?\n",
    "\n",
    "\n",
    "## Setting up R and Jupyter\n",
    "\n",
    "Please read through the instructions: https://github.com/keanmingtan/stats306_fall2021/blob/main/CourseInformation.ipynb\n",
    "\n",
    "Install Anacondda Python 3.x distribution from <https://www.anaconda.com/download/>.  \n",
    "\n",
    "Then, you can:\n",
    "-  *windows* -- start up Anaconda Prompt\n",
    "-  *linux/macOS* -- start up your terminal\n",
    "\n",
    "1. Install R from https://www.r-project.org/. If you already have an existing installation from 250 or another class you don't have to do this step, but reinstalling may still be the easiest solution since it should fix any paths that were changed by conda.\n",
    "\n",
    "    ```    \n",
    "2. On OSX, open Terminal (command-space, type `Terminal`), then type `R` and hit enter to open an R prompt. If you didn't reinstall `R` in step 2, instead you may need to enter something like `/Library/Frameworks/R.framework/Versions/3.6/Resources/bin/R`, where the version number `3.6` may change depending on when you originally installed `R`.\n",
    "\n",
    "    On Windows, open Anaconda Prompt (or the console from the Anaconda Navigator). You then need to type or paste the path to the `R.exe` file in quotes to the console. If you used the default installation settings it should be something like\n",
    "    ```\n",
    "    \"C:\\Program Files\\R\\R-3.6.2\\bin\\x64\\R.exe\"\n",
    "    ```\n",
    "    Then hit enter to open an R prompt.\n",
    "    \n",
    "4. Once you have an R prompt open, run \n",
    "    ```\n",
    "    install.packages(\"IRkernel\")\n",
    "    library(IRkernel)\n",
    "    installspec()\n",
    "    ```\n",
    "    \n",
    "Now you should be able to open jupyter notebooks and set the kernel to R. To check, open a notebook and go to Kernel->Change kernel.\n",
    "\n",
    "Now you are ready to play around with a Jupyter notebook!\n",
    "\n",
    "You can startup your notebook through the Anaconda Navigator or by typing \n",
    "\n",
    "    jupyter notebook\n",
    "\n",
    "into the prompt.\n",
    "\n",
    "    \n",
    "## Homework Submission Guideline\n",
    "\n",
    "Homework will be submited through Canvas.  All of the homework will be in the form of Jupyter notebook.  You should submit your homework solution either as an **html file or pdf file**.  You should run your code and output your results.  If there are no results, you will not receive any points even if you have the code."
   ]
  },
  {
   "cell_type": "markdown",
   "metadata": {},
   "source": [
    "## Getting Started"
   ]
  },
  {
   "cell_type": "code",
   "execution_count": 14,
   "metadata": {},
   "outputs": [
    {
     "data": {
      "text/html": [
       "'/Users/yileizh/Documents/UMich/2021 Fall/STATS 306/2020FallStats306Lab003-master 2'"
      ],
      "text/latex": [
       "'/Users/yileizh/Documents/UMich/2021 Fall/STATS 306/2020FallStats306Lab003-master 2'"
      ],
      "text/markdown": [
       "'/Users/yileizh/Documents/UMich/2021 Fall/STATS 306/2020FallStats306Lab003-master 2'"
      ],
      "text/plain": [
       "[1] \"/Users/yileizh/Documents/UMich/2021 Fall/STATS 306/2020FallStats306Lab003-master 2\""
      ]
     },
     "metadata": {},
     "output_type": "display_data"
    },
    {
     "data": {
      "text/html": [
       "<style>\n",
       ".list-inline {list-style: none; margin:0; padding: 0}\n",
       ".list-inline>li {display: inline-block}\n",
       ".list-inline>li:not(:last-child)::after {content: \"\\00b7\"; padding: 0 .5ex}\n",
       "</style>\n",
       "<ol class=list-inline><li>'Lab 10'</li><li>'Lab 2'</li><li>'Lab 3'</li><li>'Lab 4'</li><li>'Lab 5'</li><li>'Lab 6'</li><li>'Lab 7'</li><li>'Lab 8'</li><li>'Lab 9'</li><li>'stats306_lab1.ipynb'</li></ol>\n"
      ],
      "text/latex": [
       "\\begin{enumerate*}\n",
       "\\item 'Lab 10'\n",
       "\\item 'Lab 2'\n",
       "\\item 'Lab 3'\n",
       "\\item 'Lab 4'\n",
       "\\item 'Lab 5'\n",
       "\\item 'Lab 6'\n",
       "\\item 'Lab 7'\n",
       "\\item 'Lab 8'\n",
       "\\item 'Lab 9'\n",
       "\\item 'stats306\\_lab1.ipynb'\n",
       "\\end{enumerate*}\n"
      ],
      "text/markdown": [
       "1. 'Lab 10'\n",
       "2. 'Lab 2'\n",
       "3. 'Lab 3'\n",
       "4. 'Lab 4'\n",
       "5. 'Lab 5'\n",
       "6. 'Lab 6'\n",
       "7. 'Lab 7'\n",
       "8. 'Lab 8'\n",
       "9. 'Lab 9'\n",
       "10. 'stats306_lab1.ipynb'\n",
       "\n",
       "\n"
      ],
      "text/plain": [
       " [1] \"Lab 10\"              \"Lab 2\"               \"Lab 3\"              \n",
       " [4] \"Lab 4\"               \"Lab 5\"               \"Lab 6\"              \n",
       " [7] \"Lab 7\"               \"Lab 8\"               \"Lab 9\"              \n",
       "[10] \"stats306_lab1.ipynb\""
      ]
     },
     "metadata": {},
     "output_type": "display_data"
    }
   ],
   "source": [
    "# get working directory\n",
    "getwd()\n",
    "list.files()"
   ]
  },
  {
   "cell_type": "markdown",
   "metadata": {},
   "source": [
    "## Vectors"
   ]
  },
  {
   "cell_type": "code",
   "execution_count": 15,
   "metadata": {
    "scrolled": true
   },
   "outputs": [
    {
     "name": "stdout",
     "output_type": "stream",
     "text": [
      " [1]  1  2  3  4  5  6  7  8  9 10\n"
     ]
    }
   ],
   "source": [
    "x <- 1:10\n",
    "print(x)"
   ]
  },
  {
   "cell_type": "code",
   "execution_count": 16,
   "metadata": {},
   "outputs": [
    {
     "name": "stdout",
     "output_type": "stream",
     "text": [
      " [1]  1  2  3  4  5  6  7  8  9 10\n"
     ]
    }
   ],
   "source": [
    "x <- seq(from=1, to=10, by=1)\n",
    "print(x)"
   ]
  },
  {
   "cell_type": "code",
   "execution_count": null,
   "metadata": {},
   "outputs": [],
   "source": [
    "print(x^2)"
   ]
  },
  {
   "cell_type": "code",
   "execution_count": null,
   "metadata": {},
   "outputs": [],
   "source": [
    "print(x[4:9])"
   ]
  },
  {
   "cell_type": "code",
   "execution_count": null,
   "metadata": {},
   "outputs": [],
   "source": [
    "sum(x)"
   ]
  },
  {
   "cell_type": "code",
   "execution_count": null,
   "metadata": {},
   "outputs": [],
   "source": [
    "mean(x)"
   ]
  },
  {
   "cell_type": "markdown",
   "metadata": {},
   "source": [
    "## Logical values"
   ]
  },
  {
   "cell_type": "code",
   "execution_count": null,
   "metadata": {},
   "outputs": [],
   "source": [
    "print(x > 1)\n",
    "print(x[x > 1])"
   ]
  },
  {
   "cell_type": "markdown",
   "metadata": {},
   "source": [
    "## Dataframe"
   ]
  },
  {
   "cell_type": "code",
   "execution_count": null,
   "metadata": {},
   "outputs": [],
   "source": [
    "X <- data.frame(x=x, y=x)\n",
    "X\n",
    "print(class(X))"
   ]
  },
  {
   "cell_type": "code",
   "execution_count": null,
   "metadata": {},
   "outputs": [],
   "source": [
    "print(X$x)\n",
    "print(X[1,1])\n",
    "X[1,]\n",
    "print(X[,1])"
   ]
  },
  {
   "cell_type": "code",
   "execution_count": null,
   "metadata": {},
   "outputs": [],
   "source": [
    "X[1:4,]\n",
    "X[c(2,4),]"
   ]
  },
  {
   "cell_type": "code",
   "execution_count": null,
   "metadata": {},
   "outputs": [],
   "source": [
    "X[,2:3]"
   ]
  },
  {
   "cell_type": "code",
   "execution_count": null,
   "metadata": {},
   "outputs": [],
   "source": [
    "X[,c(1,3)]"
   ]
  },
  {
   "cell_type": "code",
   "execution_count": null,
   "metadata": {},
   "outputs": [],
   "source": [
    "colnames(X) <- c('val1', '??')\n",
    "X"
   ]
  },
  {
   "cell_type": "markdown",
   "metadata": {},
   "source": [
    "## Playing around with ggplot\n"
   ]
  },
  {
   "cell_type": "code",
   "execution_count": null,
   "metadata": {},
   "outputs": [],
   "source": [
    "suppressMessages(require(tidyverse))"
   ]
  },
  {
   "cell_type": "code",
   "execution_count": null,
   "metadata": {},
   "outputs": [],
   "source": [
    "head(diamonds)"
   ]
  },
  {
   "cell_type": "code",
   "execution_count": null,
   "metadata": {},
   "outputs": [],
   "source": [
    "summary(diamonds)"
   ]
  },
  {
   "cell_type": "markdown",
   "metadata": {},
   "source": [
    "# Creating the first plot"
   ]
  },
  {
   "cell_type": "code",
   "execution_count": null,
   "metadata": {},
   "outputs": [],
   "source": [
    "ggplot(data=diamonds)"
   ]
  },
  {
   "cell_type": "code",
   "execution_count": null,
   "metadata": {},
   "outputs": [],
   "source": [
    "ggplot(data=diamonds) + \n",
    "    geom_point(mapping = aes(x = carat, y = price))"
   ]
  },
  {
   "cell_type": "code",
   "execution_count": null,
   "metadata": {},
   "outputs": [],
   "source": [
    "ggplot(data=diamonds) + \n",
    "    geom_point(mapping = aes(x = carat, y = price)) +\n",
    "    labs(x = 'Carats', y = 'Price($)') +\n",
    "    ggtitle('Diamond size by carat')"
   ]
  },
  {
   "cell_type": "code",
   "execution_count": null,
   "metadata": {},
   "outputs": [],
   "source": [
    "ggplot(data = diamonds) + \n",
    "    geom_point(mapping = aes(x = carat, y = price, color = clarity)) +\n",
    "    labs(x = 'Carats', y = 'Price($)') + \n",
    "    ggtitle('Diamond price by carat count')"
   ]
  },
  {
   "cell_type": "code",
   "execution_count": null,
   "metadata": {},
   "outputs": [],
   "source": [
    "ggplot(data = diamonds) + \n",
    "    geom_point(mapping = aes(x = carat, y = price), color = 'blue') +\n",
    "    labs(x = 'Carats', y = 'Price($)') + \n",
    "    ggtitle('Diamond price by carat count')"
   ]
  },
  {
   "cell_type": "code",
   "execution_count": null,
   "metadata": {},
   "outputs": [],
   "source": [
    "ggplot(data = diamonds) + \n",
    "    # geom_point(mapping = aes(x = carat, y = price, color = clarity)) +\n",
    "    geom_bar(mapping = aes(x = color, fill = cut)) +\n",
    "    labs(x = 'Color', y = 'Count') + \n",
    "    ggtitle('Color counts')"
   ]
  },
  {
   "cell_type": "markdown",
   "metadata": {},
   "source": [
    "## Package documentation\n",
    "    ?head\n",
    "    ?tail\n",
    "    ?geom_bar\n",
    "    \n",
    "    You can always google the package documentations as well. For example, can you find the documentation page for rnorm?\n",
    "    \n",
    "## Exercise\n",
    "    1. What is the default value of the mean and standard deviation used by the ``rnorm'' function in R to generate a value from a normal distribution?\n",
    "    2. Create a boxplot of `price' grouped by the levels in the `cut' variable."
   ]
  },
  {
   "cell_type": "code",
   "execution_count": null,
   "metadata": {},
   "outputs": [],
   "source": [
    "# boxplot helps to visualize the variability of a price for each cut\n",
    "ggplot(data = diamonds) + \n",
    "    geom_boxplot(mapping=aes(x=cut,y=price)) +\n",
    "    labs(x=\"cut\", y=\"price\") + \n",
    "    ggtitle(\"price count\")"
   ]
  },
  {
   "cell_type": "markdown",
   "metadata": {},
   "source": [
    "### Feedbacks"
   ]
  },
  {
   "cell_type": "code",
   "execution_count": null,
   "metadata": {},
   "outputs": [],
   "source": []
  }
 ],
 "metadata": {
  "kernelspec": {
   "display_name": "R",
   "language": "R",
   "name": "ir"
  },
  "language_info": {
   "codemirror_mode": "r",
   "file_extension": ".r",
   "mimetype": "text/x-r-source",
   "name": "R",
   "pygments_lexer": "r",
   "version": "4.1.0"
  }
 },
 "nbformat": 4,
 "nbformat_minor": 2
}
