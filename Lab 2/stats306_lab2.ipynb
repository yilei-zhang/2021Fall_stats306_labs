{
 "cells": [
  {
   "cell_type": "markdown",
   "metadata": {},
   "source": [
    "# Lab 2: More ggplot and dplyr\n",
    "\n",
    "### We encourage you to be active on Piazza, asking and answering homework questions.\n",
    "\n",
    "### Demo on homework submission.\n"
   ]
  },
  {
   "cell_type": "markdown",
   "metadata": {},
   "source": [
    "## Review : Lab 1 Exercise\n",
    "    1. What is the default value of the mean and standard deviation used by the ``rnorm'' function in R to generate a value from a normal distribution?\n",
    "    2. Create a boxplot of `price' grouped by the levels in the `cut' variable."
   ]
  },
  {
   "cell_type": "code",
   "execution_count": null,
   "metadata": {},
   "outputs": [],
   "source": [
    "library(tidyverse)"
   ]
  },
  {
   "cell_type": "code",
   "execution_count": null,
   "metadata": {},
   "outputs": [],
   "source": [
    "summary(diamonds)"
   ]
  },
  {
   "cell_type": "code",
   "execution_count": null,
   "metadata": {},
   "outputs": [],
   "source": [
    "# boxplot helps to visualize the variability of a price for each cut\n",
    "ggplot(data = diamonds) + \n",
    "    geom_boxplot(mapping = aes(x = cut, y = price)) +\n",
    "    labs(x = 'cut', y = 'Price($)') + \n",
    "    ggtitle('Diamond price by carat count')"
   ]
  },
  {
   "cell_type": "markdown",
   "metadata": {},
   "source": [
    "### Facets\n",
    "    If we want more segmented plots"
   ]
  },
  {
   "cell_type": "code",
   "execution_count": null,
   "metadata": {},
   "outputs": [],
   "source": [
    "ggplot(data = diamonds) + \n",
    "    geom_point(mapping = aes(x = carat, y = price)) +\n",
    "    labs(x = 'Diamonds Carats', y = 'Price($)') +\n",
    "    ggtitle('Diamond size by carat') + \n",
    "    facet_grid(.~clarity) "
   ]
  },
  {
   "cell_type": "markdown",
   "metadata": {},
   "source": [
    "## Subset generation"
   ]
  },
  {
   "cell_type": "code",
   "execution_count": null,
   "metadata": {},
   "outputs": [],
   "source": [
    "rand_idx = floor(runif(1000, min=1, max=dim(diamonds)[1]))\n",
    "dm = diamonds[rand_idx, ]\n",
    "print(names(dm))\n",
    "print(dim(dm))"
   ]
  },
  {
   "cell_type": "code",
   "execution_count": null,
   "metadata": {},
   "outputs": [],
   "source": [
    "summary(dm)"
   ]
  },
  {
   "cell_type": "markdown",
   "metadata": {},
   "source": [
    "## More about Facets"
   ]
  },
  {
   "cell_type": "markdown",
   "metadata": {},
   "source": [
    "![Caption for the picture.](./graph1.png)"
   ]
  },
  {
   "cell_type": "code",
   "execution_count": null,
   "metadata": {},
   "outputs": [],
   "source": [
    "p1 = ggplot(data = dm) + \n",
    "    geom_point(mapping = aes(x = x, y = price, color = cut)) + \n",
    "    facet_wrap(~clarity)\n",
    "print(p1)"
   ]
  },
  {
   "cell_type": "markdown",
   "metadata": {},
   "source": [
    "## geom_smooth\n",
    "    So far we have plotted the points in a fundamental manner. We might be interested in the linear trends of the data that we have."
   ]
  },
  {
   "cell_type": "markdown",
   "metadata": {},
   "source": [
    "![Caption for the picture.](./graph2.png)"
   ]
  },
  {
   "cell_type": "code",
   "execution_count": null,
   "metadata": {},
   "outputs": [],
   "source": [
    "p2 = ggplot(data = dm) + \n",
    "    geom_point(mapping = aes(x = x, y = price)) +\n",
    "    geom_smooth(mapping = aes(x = x, y = price))\n",
    "print(p2)"
   ]
  },
  {
   "cell_type": "markdown",
   "metadata": {},
   "source": [
    "\n",
    "    How to reduce the code duplication above? \"(x=x, y=price)\" is in both lines. "
   ]
  },
  {
   "cell_type": "code",
   "execution_count": null,
   "metadata": {},
   "outputs": [],
   "source": [
    "ggplot(data = dm, mapping = aes(x = x, y= price)) + \n",
    "  geom_smooth() +   geom_point()"
   ]
  },
  {
   "cell_type": "markdown",
   "metadata": {},
   "source": [
    "## Geometric Plots\n",
    "    Many graphs, like scatterplots, plot the raw values of your dataset. Other graphs, like bar charts, calculate new values to plot.\n",
    "\n",
    "    You can learn which stat a geom uses by inspecting the default value for the 'stat' argument. For example, ?geom_bar shows that the default value for stat is 'count', which means that geom_bar() uses stat_count().\n",
    "\n",
    "    stat_count() is documented on the same page as geom_bar(), and if you scroll down you can find a section called \"computed variables.\" That describes how it computes two new variables: count and prop.\n",
    "\n",
    "    Let's use the following case where we override the default stat and instead want to use a value within the dataset of the y-axis (instead of a count).\n"
   ]
  },
  {
   "cell_type": "code",
   "execution_count": null,
   "metadata": {},
   "outputs": [],
   "source": [
    "?geom_bar"
   ]
  },
  {
   "cell_type": "code",
   "execution_count": null,
   "metadata": {},
   "outputs": [],
   "source": [
    "popn <- tribble(\n",
    "~country, ~population,\n",
    "\"ETHIOPIA\", 102000000,\n",
    "\"NIGERIA\", 186000000,\n",
    "\"EGYPT\", 96000000,\n",
    "\"DR CONGO\", 78000000,\n",
    "\"SOUTH AFRICA\", 56000000\n",
    ")"
   ]
  },
  {
   "cell_type": "code",
   "execution_count": null,
   "metadata": {},
   "outputs": [],
   "source": [
    "popn"
   ]
  },
  {
   "cell_type": "markdown",
   "metadata": {},
   "source": [
    "![Caption for the picture.](./graph5.png)"
   ]
  },
  {
   "cell_type": "code",
   "execution_count": null,
   "metadata": {},
   "outputs": [],
   "source": [
    "ggplot(data = popn) +\n",
    "  geom_bar(mapping = aes(x = country, y = population), stat = \"identity\") +\n",
    "  ggtitle('Most populous countries in Africa')"
   ]
  },
  {
   "cell_type": "code",
   "execution_count": null,
   "metadata": {},
   "outputs": [],
   "source": [
    "?geom_bar"
   ]
  },
  {
   "cell_type": "code",
   "execution_count": null,
   "metadata": {},
   "outputs": [],
   "source": [
    "ggplot(data = dm) + \n",
    "    geom_bar(mapping = aes(x=cut, y=..prop.., group=1))"
   ]
  },
  {
   "cell_type": "code",
   "execution_count": null,
   "metadata": {},
   "outputs": [],
   "source": [
    "ggplot(data = dm) +\n",
    "    stat_count(mapping = aes(x = cut))"
   ]
  },
  {
   "cell_type": "code",
   "execution_count": null,
   "metadata": {},
   "outputs": [],
   "source": [
    "ggplot(data = dm) +\n",
    "    geom_col(mapping = aes(x = cut, y = price / 1e6))"
   ]
  },
  {
   "cell_type": "markdown",
   "metadata": {},
   "source": [
    "### Exercise\n",
    "    1. What does geom_col() do? How is it different to geom_bar()?\n",
    "    2. Most geoms and stats come in pairs that are almost always used in concert. Read through the documentation and make a list of all the pairs. What do they have in common?\n",
    "    3. What variables does stat_smooth() compute? What parameters control its behaviour?\n",
    "    4. In our proportion bar chart, we need to set group = 1. Why? In other words, what is the problem with these two graphs?"
   ]
  },
  {
   "cell_type": "code",
   "execution_count": null,
   "metadata": {},
   "outputs": [],
   "source": [
    "ggplot(data = diamonds) + \n",
    "  geom_bar(mapping = aes(x = cut, y=price), stat=\"identity\")"
   ]
  },
  {
   "cell_type": "markdown",
   "metadata": {},
   "source": [
    "## Position adjustments"
   ]
  },
  {
   "cell_type": "code",
   "execution_count": null,
   "metadata": {},
   "outputs": [],
   "source": [
    "ggplot(data = diamonds) + \n",
    "  geom_bar(mapping = aes(x = cut, colour = cut))\n",
    "ggplot(data = diamonds) + \n",
    "  geom_bar(mapping = aes(x = cut, fill = cut))"
   ]
  },
  {
   "cell_type": "markdown",
   "metadata": {},
   "source": [
    "Remmeber that we can \"color by\" a different variable - in this case, clarity. By default, it stacks the bars for each clarity level. This is done using the positional adjustment specified by the position argument of geom_bar. If you don't want a stacked bar chart, you can use one of three other options: \"identity\", \"dodge\", or \"fill\"."
   ]
  },
  {
   "cell_type": "markdown",
   "metadata": {},
   "source": [
    "![Caption for the picture.](./graph7.png)"
   ]
  },
  {
   "cell_type": "code",
   "execution_count": null,
   "metadata": {},
   "outputs": [],
   "source": [
    "ggplot(data = dm) +\n",
    "    geom_bar(mapping = aes(x = cut, fill = clarity)) # this \"fill\" is different from the following one."
   ]
  },
  {
   "cell_type": "markdown",
   "metadata": {},
   "source": [
    "*position 'fill'*\n",
    "This works like stacking, but makes each set of stacked bars the same height. This makes it easier to compare proportions across groups."
   ]
  },
  {
   "cell_type": "code",
   "execution_count": null,
   "metadata": {},
   "outputs": [],
   "source": [
    "ggplot(data = dm) + \n",
    "  geom_bar(mapping = aes(x = cut, fill = clarity), position = \"fill\")"
   ]
  },
  {
   "cell_type": "markdown",
   "metadata": {},
   "source": [
    "*position = 'dodge'*\n",
    "\n",
    "This places overlapping objects directly beside one another, which makes it easier to compare individual values."
   ]
  },
  {
   "cell_type": "markdown",
   "metadata": {},
   "source": [
    "![Caption for the picture.](graph10.png)"
   ]
  },
  {
   "cell_type": "code",
   "execution_count": null,
   "metadata": {},
   "outputs": [],
   "source": [
    "ggplot(data = dm) + \n",
    "  geom_bar(mapping = aes(x = cut, fill = clarity), position = \"dodge\")"
   ]
  },
  {
   "cell_type": "markdown",
   "metadata": {},
   "source": [
    "A positional adjustment that is very useful for scatterplots with overlaps is the 'jitter' argument."
   ]
  },
  {
   "cell_type": "code",
   "execution_count": null,
   "metadata": {},
   "outputs": [],
   "source": [
    "ggplot(data = mpg) + \n",
    "  geom_point(mapping = aes(x = displ, y = hwy))\n",
    "\n",
    "ggplot(data = mpg) + \n",
    "  geom_point(mapping = aes(x = displ, y = hwy), position = \"jitter\")"
   ]
  },
  {
   "cell_type": "markdown",
   "metadata": {},
   "source": [
    "\n",
    "\n",
    "# dplyr for data manipulation"
   ]
  },
  {
   "cell_type": "code",
   "execution_count": null,
   "metadata": {},
   "outputs": [],
   "source": [
    "dim(dm)\n",
    "head(dm)"
   ]
  },
  {
   "cell_type": "markdown",
   "metadata": {},
   "source": [
    "Simply run 'dm' after declaring the dm variable above. can you guess what 'dbl', 'ord', and 'int' are?\n",
    "\n",
    "Notice how the levels below follow an order. Indeed, we expect Fair < Good < Very Good < Premium < Ideal"
   ]
  },
  {
   "cell_type": "code",
   "execution_count": null,
   "metadata": {},
   "outputs": [],
   "source": [
    "print(levels(dm$cut))\n",
    "print(levels(dm$color))\n",
    "print(levels(dm$clarity))"
   ]
  },
  {
   "cell_type": "code",
   "execution_count": null,
   "metadata": {},
   "outputs": [],
   "source": [
    "sizes = c(\"M\", \"S\", \"S\", \"M\", \"XL\", \"XXL\", \"XL\", \"S\", \"M\", \"L\")\n",
    "sizes"
   ]
  },
  {
   "cell_type": "code",
   "execution_count": null,
   "metadata": {},
   "outputs": [],
   "source": [
    "sizes = ordered(sizes, levels = c(\"S\", \"M\", \"L\", \"XL\", \"XXL\"))\n",
    "levels(sizes) # in R Studio, this will output the ordering explicitly with less-than signs"
   ]
  },
  {
   "cell_type": "markdown",
   "metadata": {},
   "source": [
    "There are five functions in dplyr: filter, arrange, select, mutate and summarise. all of them have the following properties:\n",
    "1. The first argument is a data frame.\n",
    "2. The subsequent arguments describe what to do with the data frame, using the variable names( without quotes).\n",
    "3. The result is a new data frame."
   ]
  },
  {
   "cell_type": "markdown",
   "metadata": {},
   "source": [
    "## Filter\n",
    "Used if you want to view or store a new dataset containing a subset of the full dataset."
   ]
  },
  {
   "cell_type": "code",
   "execution_count": null,
   "metadata": {},
   "outputs": [],
   "source": [
    "filter(dm, cut == 'Fair', color == 'J')"
   ]
  },
  {
   "cell_type": "markdown",
   "metadata": {},
   "source": [
    "Usually you want to store the newly subsetted data in memory. "
   ]
  },
  {
   "cell_type": "code",
   "execution_count": null,
   "metadata": {},
   "outputs": [],
   "source": [
    "worst_diamonds = filter(dm, cut == 'Fair', color == 'J')"
   ]
  },
  {
   "cell_type": "markdown",
   "metadata": {},
   "source": [
    "Make sure to use '==' instead of '='. The former is to test equality while the latter is for assignments. "
   ]
  },
  {
   "cell_type": "code",
   "execution_count": null,
   "metadata": {},
   "outputs": [],
   "source": [
    "4 == 6\n",
    "test = 6\n",
    "test\n",
    "test == 5\n"
   ]
  },
  {
   "cell_type": "markdown",
   "metadata": {},
   "source": [
    "## Use cases"
   ]
  },
  {
   "cell_type": "code",
   "execution_count": null,
   "metadata": {},
   "outputs": [],
   "source": [
    "a = filter(dm, color == 'D' | color == 'J') \n",
    "# filtering for rows that satisfy one or both of the conditions\n",
    "\n",
    "b = filter(dm, color == 'D' & color == 'J') \n",
    "# filtering for rows that satisfy both conditions\n",
    "\n",
    "best_cuts = filter(dm, cut == 'Ideal') \n",
    "# filtering using membership condition\n",
    "\n",
    "not_worst_cuts = filter(dm, cut > 'Fair') \n",
    "# can do this because cut is an ordinal variable"
   ]
  },
  {
   "cell_type": "code",
   "execution_count": null,
   "metadata": {},
   "outputs": [],
   "source": [
    "not_worst_cuts[1:20,]"
   ]
  },
  {
   "cell_type": "markdown",
   "metadata": {},
   "source": [
    "In R, if you want to find if a variable's value is missing, use the is.na() function. In particular, do not check for equality with NA:"
   ]
  },
  {
   "cell_type": "code",
   "execution_count": null,
   "metadata": {},
   "outputs": [],
   "source": [
    "x = 4"
   ]
  },
  {
   "cell_type": "code",
   "execution_count": null,
   "metadata": {},
   "outputs": [],
   "source": [
    "x == NA\n",
    "is.na(x)"
   ]
  },
  {
   "cell_type": "markdown",
   "metadata": {},
   "source": [
    "Similarly, never put an equality condition with NA in your dplyr filter() statements"
   ]
  },
  {
   "cell_type": "code",
   "execution_count": null,
   "metadata": {},
   "outputs": [],
   "source": [
    "# create a dataframe\n",
    "df = tibble(x = c(1, NA, 3))\n",
    "print(df)"
   ]
  },
  {
   "cell_type": "code",
   "execution_count": null,
   "metadata": {},
   "outputs": [],
   "source": [
    "filter(df, x>1)"
   ]
  },
  {
   "cell_type": "code",
   "execution_count": null,
   "metadata": {},
   "outputs": [],
   "source": [
    "filter(df, is.na(x) | x > 1)"
   ]
  },
  {
   "cell_type": "markdown",
   "metadata": {},
   "source": [
    "### Exercise\n",
    "1. Write code using filter that will allow you to output diamonds with colors D or E and cuts Good or Very Good\n",
    "2. Write code using filter that will allow you to output diamonds with even-numbered prices"
   ]
  },
  {
   "cell_type": "markdown",
   "metadata": {},
   "source": [
    "## Arrange\n",
    "Useful for ordering rows instead of filtering for a subset of them"
   ]
  },
  {
   "cell_type": "code",
   "execution_count": null,
   "metadata": {},
   "outputs": [],
   "source": [
    "arrange(dm, cut, color)[1:20,] \n",
    "# can be done since cut and color are ordinal variables"
   ]
  },
  {
   "cell_type": "code",
   "execution_count": null,
   "metadata": {},
   "outputs": [],
   "source": [
    "# arranging in the descending order of carat and then cut\n",
    "arrange(dm,desc(carat), cut)[1:20,]"
   ]
  },
  {
   "cell_type": "markdown",
   "metadata": {},
   "source": [
    "Missing values are always sorted at the end:"
   ]
  },
  {
   "cell_type": "code",
   "execution_count": null,
   "metadata": {},
   "outputs": [],
   "source": [
    "df = tibble(x = c(5, NA, 2))\n",
    "arrange(df, x)"
   ]
  },
  {
   "cell_type": "code",
   "execution_count": null,
   "metadata": {},
   "outputs": [],
   "source": [
    "arrange(df, desc(x))"
   ]
  },
  {
   "cell_type": "markdown",
   "metadata": {},
   "source": [
    "### Exercise\n",
    "1. Use arrange to sort the dm dataset by descending order of the product of the x, y, and z variables. Output the first 20 rows of the new dataset.\n",
    "\n",
    "## Select\n",
    "This is used to reduce the number of columns that we're dealing with. Useful for things like genetic data"
   ]
  },
  {
   "cell_type": "code",
   "execution_count": null,
   "metadata": {},
   "outputs": [],
   "source": [
    "names(dm)"
   ]
  },
  {
   "cell_type": "code",
   "execution_count": null,
   "metadata": {},
   "outputs": [],
   "source": [
    "select(dm, carat, price)[1:20,]"
   ]
  },
  {
   "cell_type": "code",
   "execution_count": null,
   "metadata": {},
   "outputs": [],
   "source": [
    "select(dm, carat:price)[1:20,]"
   ]
  },
  {
   "cell_type": "code",
   "execution_count": null,
   "metadata": {},
   "outputs": [],
   "source": [
    "select(dm, -(carat:price))[1:20,]"
   ]
  },
  {
   "cell_type": "markdown",
   "metadata": {},
   "source": [
    "Use rename(), which is a variant of select(), to rename a column and keep all the variables that aren't explicitly mentioned:"
   ]
  },
  {
   "cell_type": "code",
   "execution_count": null,
   "metadata": {},
   "outputs": [],
   "source": [
    "rename(dm, width=x)[1:20,]"
   ]
  },
  {
   "cell_type": "code",
   "execution_count": null,
   "metadata": {},
   "outputs": [],
   "source": [
    "select(dm, width = x)[1:20,]"
   ]
  },
  {
   "cell_type": "markdown",
   "metadata": {},
   "source": [
    "Another option is to use select() in conjunction with the everything() helper. This is useful if you have a handful of variables you would like to move to the start of the dataframe"
   ]
  },
  {
   "cell_type": "code",
   "execution_count": null,
   "metadata": {},
   "outputs": [],
   "source": [
    "select(dm, price, carat, everything())[1:20,]"
   ]
  },
  {
   "cell_type": "markdown",
   "metadata": {},
   "source": [
    "There are some helper functions for select():\n",
    "    starts_with()\n",
    "    ends_with()\n",
    "    contains()\n",
    "    \n",
    "### Exercise:\n",
    "1. Write code that wil have price as the first column and the columns starting with the letter 'c' as the following columns. Output the first 20 rows of such a datset.\n",
    "\n",
    "### Mutate\n",
    "to create a computed column"
   ]
  },
  {
   "cell_type": "code",
   "execution_count": null,
   "metadata": {},
   "outputs": [],
   "source": [
    "dm_dimensions = select(dm, \n",
    "  -(carat:price)\n",
    ")\n",
    "mutate(dm_dimensions,\n",
    "  volume = x*y*z\n",
    ")[1:20,]"
   ]
  },
  {
   "cell_type": "markdown",
   "metadata": {},
   "source": [
    "If you only want to keep the new variables, use transmute()"
   ]
  },
  {
   "cell_type": "code",
   "execution_count": null,
   "metadata": {},
   "outputs": [],
   "source": [
    "transmute(dm_dimensions, \n",
    "          volume = x*y*z)[1:20,]"
   ]
  },
  {
   "cell_type": "markdown",
   "metadata": {},
   "source": [
    "\n",
    "## Summarise\n",
    "Generally used in concert with group_by() function to output summaries by group. Group summaries are seen in many applications"
   ]
  },
  {
   "cell_type": "code",
   "execution_count": null,
   "metadata": {},
   "outputs": [],
   "source": [
    "by_color = group_by(dm, color)\n",
    "summarise(by_color, avg_price = mean(price, na.rm = TRUE))"
   ]
  },
  {
   "cell_type": "code",
   "execution_count": null,
   "metadata": {},
   "outputs": [],
   "source": [
    "head(mpg)"
   ]
  },
  {
   "cell_type": "code",
   "execution_count": null,
   "metadata": {},
   "outputs": [],
   "source": [
    "mpg2 = mpg\n",
    "mpg2$year = as.factor(mpg$year) # telling it we're dealing with a category column\n",
    "mpg2 = mutate(mpg2, manual = (grepl('manual', trans)))\n",
    "head(mpg2)"
   ]
  },
  {
   "cell_type": "code",
   "execution_count": null,
   "metadata": {},
   "outputs": [],
   "source": [
    "by_maker_yr = group_by(mpg2, manufacturer, year)\n",
    "hwy_summary = summarise(by_maker_yr,\n",
    "                       count = n(),\n",
    "                       hwy = mean(hwy, na.rm = TRUE),\n",
    "                       cty = mean(cty, na.rm = TRUE))\n",
    "hwy_summary"
   ]
  },
  {
   "cell_type": "code",
   "execution_count": null,
   "metadata": {},
   "outputs": [],
   "source": [
    "hwy_summary_ag = filter(hwy_summary, substring(manufacturer,1,1) %in% c('a','b','c','d','e','f','g'))\n",
    "hwy_summary_ag"
   ]
  },
  {
   "cell_type": "code",
   "execution_count": null,
   "metadata": {
    "scrolled": true
   },
   "outputs": [],
   "source": [
    "ggplot(data = hwy_summary_ag, mapping = aes(x = cty, y = hwy)) + \n",
    "geom_point(mapping = aes(color = manufacturer, shape = year))"
   ]
  },
  {
   "cell_type": "markdown",
   "metadata": {},
   "source": [
    "## Pipes\n",
    "The transformations above can be written as:\n"
   ]
  },
  {
   "cell_type": "code",
   "execution_count": null,
   "metadata": {},
   "outputs": [],
   "source": [
    "hwy_summary_ag2 = mpg2 %>% \n",
    "group_by(manufacturer, year) %>%\n",
    "summarise(\n",
    "    count = n(),\n",
    "    hwy = mean(hwy, na.rm = TRUE),\n",
    "    cty = mean(cty, na.rm = TRUE)) %>%\n",
    "filter(substring(manufacturer,1,1) %in% c('a','b','c','d','e','f','g'))"
   ]
  },
  {
   "cell_type": "code",
   "execution_count": null,
   "metadata": {},
   "outputs": [],
   "source": [
    "hwy_summary_ag2"
   ]
  }
 ],
 "metadata": {
  "kernelspec": {
   "display_name": "R",
   "language": "R",
   "name": "ir"
  },
  "language_info": {
   "codemirror_mode": "r",
   "file_extension": ".r",
   "mimetype": "text/x-r-source",
   "name": "R",
   "pygments_lexer": "r",
   "version": "4.1.1"
  }
 },
 "nbformat": 4,
 "nbformat_minor": 2
}
