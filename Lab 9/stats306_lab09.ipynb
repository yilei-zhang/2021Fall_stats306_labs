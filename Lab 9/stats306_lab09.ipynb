{
 "cells": [
  {
   "cell_type": "markdown",
   "metadata": {},
   "source": [
    "# Lab 9: Regular Expressions and Factors\n"
   ]
  },
  {
   "cell_type": "markdown",
   "metadata": {},
   "source": []
  },
  {
   "cell_type": "markdown",
   "metadata": {},
   "source": [
    "# Preliminaries\n",
    "\n"
   ]
  },
  {
   "cell_type": "markdown",
   "metadata": {},
   "source": [
    "# Regular Expressions\n"
   ]
  },
  {
   "cell_type": "code",
   "execution_count": null,
   "metadata": {},
   "outputs": [],
   "source": [
    "library(tidyverse)"
   ]
  },
  {
   "cell_type": "markdown",
   "metadata": {},
   "source": [
    "## Regular Expressions are Hard"
   ]
  },
  {
   "cell_type": "markdown",
   "metadata": {},
   "source": [
    "-  Even seasoned programmers often struggle with regular expressions; they require a lot of practice to master.\n",
    "-  Many people have written entire books with different animals on the cover just on the topic, and this is just from one publisher.\n"
   ]
  },
  {
   "cell_type": "markdown",
   "metadata": {},
   "source": [
    "![owl](https://raw.githubusercontent.com/dereklhansen/stats306_lab/master/lab8/owl.jpg)\n",
    "![weasel](https://raw.githubusercontent.com/dereklhansen/stats306_lab/master/lab8/weasel.jpg)\n",
    "![bat](https://raw.githubusercontent.com/dereklhansen/stats306_lab/master/lab8/bat.jpg)\n"
   ]
  },
  {
   "cell_type": "markdown",
   "metadata": {},
   "source": [
    "-  This website will let you test out regular expressions on the fly: https://www.regexpal.com/\n",
    "-  Be sure to check the \"multiline\" box under \"flags\""
   ]
  },
  {
   "cell_type": "markdown",
   "metadata": {},
   "source": [
    "![](https://raw.githubusercontent.com/dereklhansen/stats306_lab/master/lab8/regex_pal2.png)"
   ]
  },
  {
   "cell_type": "markdown",
   "metadata": {},
   "source": [
    "## RegExr\n",
    "-  RegExr is a more powerful website that color-codes expressions as you build them: https://regexr.com/"
   ]
  },
  {
   "cell_type": "markdown",
   "metadata": {},
   "source": [
    "![](https://raw.githubusercontent.com/dereklhansen/stats306_lab/master/lab8/regexr.png)"
   ]
  },
  {
   "cell_type": "markdown",
   "metadata": {},
   "source": [
    "## Using Regular Expressions in dplyr\n",
    "- Regular expressions aren't just useful for text data. It is also useful when data comes in a wide format with many columns that are hard to reconcile.\n",
    "- Here we have a table of crime data by age, sex, and race from the ICSPR at the University of Michigan (original source here: https://www.icpsr.umich.edu/web/NACJD/studies/36115)\n",
    "- As you'll see below, each row corresponds to a particular agency, month, and offense. The subsequent columns denotes counts of gender-age crimes (e.g. \"F20\" is how many reports for females age 20), or of different racial groups which are broken up by juvenile-status and race (\"AW\" is Adult White).\n",
    "- While high-quality, this data is not very tidy; it is good example of how data actually comes in the real world.\n"
   ]
  },
  {
   "cell_type": "code",
   "execution_count": null,
   "metadata": {
    "scrolled": true
   },
   "outputs": [],
   "source": [
    "icpsr_raw <- read_csv(\"https://raw.githubusercontent.com/dereklhansen/stats306_lab/master/lab8/icpsr_raw.csv\")"
   ]
  },
  {
   "cell_type": "code",
   "execution_count": null,
   "metadata": {},
   "outputs": [],
   "source": [
    "head(icpsr_raw)\n",
    "names(icpsr_raw)"
   ]
  },
  {
   "cell_type": "code",
   "execution_count": null,
   "metadata": {
    "scrolled": false
   },
   "outputs": [],
   "source": [
    "glimpse(icpsr_raw)"
   ]
  },
  {
   "cell_type": "markdown",
   "metadata": {},
   "source": [
    "- We want to form a table of the crime data of gender and age groups. We use regular expressions to select the columns that match the age-gender format we saw\n",
    "- We can print out our columns, then copy-pasted them into RegExr"
   ]
  },
  {
   "cell_type": "code",
   "execution_count": null,
   "metadata": {},
   "outputs": [],
   "source": [
    "message(paste0(names(icpsr_raw), collapse=\"\\n\"))"
   ]
  },
  {
   "cell_type": "markdown",
   "metadata": {},
   "source": [
    "![](https://raw.githubusercontent.com/dereklhansen/stats306_lab/master/lab8/gender_age2.png)"
   ]
  },
  {
   "cell_type": "markdown",
   "metadata": {},
   "source": [
    "-  We then use the ```matches``` function within ```select```. ```matches``` will keep all columns that match our regular expression.\n",
    "-  Matches works with tidyr functions as well"
   ]
  },
  {
   "cell_type": "code",
   "execution_count": null,
   "metadata": {},
   "outputs": [],
   "source": [
    "icpsr_raw %>% filter(CONTENTS == 3) %>% \n",
    "  select(originating_agency = ORI,\n",
    "         month = MONTH,\n",
    "         offense = OFFENSE,\n",
    "         matches(\"^(M|F)[0-9]+\")) %>% print()"
   ]
  },
  {
   "cell_type": "code",
   "execution_count": null,
   "metadata": {},
   "outputs": [],
   "source": [
    "icpsr_raw %>%\n",
    "  filter(CONTENTS == 3) %>%\n",
    "  select(originating_agency = ORI,\n",
    "         month = MONTH,\n",
    "         offense = OFFENSE,\n",
    "         matches(\"^(M|F)[0-9]+\")) %>%\n",
    "  gather(matches(\"^(M|F)[0-9]+\"), \n",
    "         key = \"gender_age\",\n",
    "         value = \"count\") %>% print()"
   ]
  },
  {
   "cell_type": "code",
   "execution_count": null,
   "metadata": {},
   "outputs": [],
   "source": [
    "icpsr_gender_age <- icpsr_raw %>%\n",
    "  filter(CONTENTS == 3) %>%\n",
    "  select(originating_agency = ORI,\n",
    "         month = MONTH,\n",
    "         offense = OFFENSE,\n",
    "         matches(\"^(M|F)[0-9]+\")) %>%\n",
    "  gather(matches(\"^(M|F)[0-9]+\"), \n",
    "         key = \"gender_age\",\n",
    "         value = \"count\") %>%\n",
    "  mutate(count = ifelse(count == 99999, 0, count)) %>%\n",
    "  mutate(count = ifelse(count == 99998, NA_real_, count)) %>% \n",
    "  separate(gender_age, into = c(\"gender\", \"age\"), sep=1)"
   ]
  },
  {
   "cell_type": "code",
   "execution_count": null,
   "metadata": {
    "scrolled": false
   },
   "outputs": [],
   "source": [
    "print(icpsr_gender_age)"
   ]
  },
  {
   "cell_type": "markdown",
   "metadata": {},
   "source": [
    "- In this simple case, we could just use the tidyr ```separate``` function with an index (1) \n",
    "- The ```extract``` function from ```tidyr``` is more powerful, as we can have it search for particular patterns"
   ]
  },
  {
   "cell_type": "code",
   "execution_count": null,
   "metadata": {},
   "outputs": [],
   "source": [
    "icpsr_gender_age <- icpsr_raw %>%\n",
    "  filter(CONTENTS == 3) %>%\n",
    "  select(originating_agency = ORI,\n",
    "         month = MONTH,\n",
    "         offense = OFFENSE,\n",
    "         matches(\"^(M|F)[0-9]+\")) %>%\n",
    "  gather(matches(\"^(M|F)[0-9]+\"), \n",
    "         key = \"gender_age\",\n",
    "         value = \"count\") %>%\n",
    "  mutate(count = ifelse(count == 99999, 0, count)) %>%\n",
    "  mutate(count = ifelse(count == 99998, NA_real_, count)) %>%\n",
    "  extract(gender_age, into = c(\"gender\", \"age\"), regex=(\"(M|F)([0-9]+)\"))\n",
    "print(icpsr_gender_age )"
   ]
  },
  {
   "cell_type": "markdown",
   "metadata": {},
   "source": [
    "-  What happened? Try looking back at our website code\n",
    "-  Our regular expression was good enough to find the right columns, but \"[0-9]+\" doesn't match to any of the names with underscores (such as \"M0_9\")\n",
    "-  This is why regular expressions are tricky to master!"
   ]
  },
  {
   "cell_type": "code",
   "execution_count": null,
   "metadata": {},
   "outputs": [],
   "source": [
    "icpsr_gender_age <- icpsr_raw %>%\n",
    "  filter(CONTENTS == 3) %>%\n",
    "  select(originating_agency = ORI,\n",
    "         month = MONTH,\n",
    "         offense = OFFENSE,\n",
    "         matches(\"^(M|F)[0-9]+\")) %>%\n",
    "  gather(matches(\"^(M|F)[0-9]+\"), \n",
    "         key = \"gender_age\",\n",
    "         value = \"count\") %>%\n",
    "  mutate(count = ifelse(count == 99999, 0, count)) %>%\n",
    "  mutate(count = ifelse(count == 99998, NA_real_, count)) %>%\n",
    "  extract(gender_age, into = c(\"gender\", \"age\"), regex=(\"(M|F)([0-9]+$|[0-9]+_[0-9]+)\"))\n",
    "print(icpsr_gender_age)"
   ]
  },
  {
   "cell_type": "markdown",
   "metadata": {},
   "source": [
    "**Exercise:**\n",
    "\n",
    "Instead of age being a character, split the range into age_min and age_max. If there is just one age, set age_min=age_max"
   ]
  },
  {
   "cell_type": "markdown",
   "metadata": {},
   "source": [
    "**Solution:**\n",
    "\n",
    "You could just do ```separate``` on the \"age\" column. Or you can do it directly, all with regular expressions!\n",
    "\n",
    "We need to make sure that we handle all cases properly. We define three groups to define gender_age:\n",
    "-  ```\"(M|F)\"``` matches either male or female\n",
    "-  ```\"([0-9]+)\"``` matches \"9\", \"20\", etc.\n",
    "-  ```\"((_[0-9]+|)\"``` matches ```\"_10\"```, ```\"_100\"```, **or nothing**. If we don't specify this, the rows where the string does not match this pattern will return \"NA\" for all values."
   ]
  },
  {
   "cell_type": "code",
   "execution_count": null,
   "metadata": {},
   "outputs": [],
   "source": []
  },
  {
   "cell_type": "markdown",
   "metadata": {},
   "source": [
    "# Factors"
   ]
  },
  {
   "cell_type": "code",
   "execution_count": null,
   "metadata": {
    "scrolled": false
   },
   "outputs": [],
   "source": [
    "icpsr_gender_age_fctr <- icpsr_gender_age %>%\n",
    "    mutate(originating_agency=factor(originating_agency), offense=factor(offense), gender=factor(gender), age=factor(age))\n",
    "print(icpsr_gender_age_fctr)"
   ]
  },
  {
   "cell_type": "markdown",
   "metadata": {},
   "source": [
    "Suppose we want to make the age groupings more clear (i.e. say \"0 to 9\" instead of \"0_9\"). the ```fct_recode``` is useful for making quick changes"
   ]
  },
  {
   "cell_type": "code",
   "execution_count": null,
   "metadata": {
    "scrolled": true
   },
   "outputs": [],
   "source": [
    "mutate(icpsr_gender_age_fctr, age=fct_recode(age, \"0 to 9\"=\"0_9\", \"10 to 12\"=\"10_12\", \"13 to 14\"=\"13_14\")) %>%\n",
    "    print()"
   ]
  },
  {
   "cell_type": "markdown",
   "metadata": {},
   "source": [
    "However, in our case, it would be tedious to make this same change for every group. Instead, we can manipulate the ```levels``` directly, which lets us use regular expressions."
   ]
  },
  {
   "cell_type": "code",
   "execution_count": null,
   "metadata": {},
   "outputs": [],
   "source": [
    "levels(icpsr_gender_age_fctr$age)"
   ]
  },
  {
   "cell_type": "code",
   "execution_count": null,
   "metadata": {},
   "outputs": [],
   "source": [
    "levels(icpsr_gender_age_fctr$age) <- str_replace(levels(icpsr_gender_age_fctr$age), \"_\", \" to \")"
   ]
  },
  {
   "cell_type": "code",
   "execution_count": null,
   "metadata": {
    "scrolled": true
   },
   "outputs": [],
   "source": [
    "print(icpsr_gender_age_fctr)\n",
    "print(levels(icpsr_gender_age_fctr$age))"
   ]
  },
  {
   "cell_type": "markdown",
   "metadata": {},
   "source": [
    "For our last example, we revisit the ```gss_cat``` dataset. We want to extract different features of ```partyid```"
   ]
  },
  {
   "cell_type": "code",
   "execution_count": null,
   "metadata": {
    "scrolled": true
   },
   "outputs": [],
   "source": [
    "print(gss_cat)"
   ]
  },
  {
   "cell_type": "code",
   "execution_count": null,
   "metadata": {
    "scrolled": true
   },
   "outputs": [],
   "source": [
    "print(levels(gss_cat$partyid))"
   ]
  },
  {
   "cell_type": "markdown",
   "metadata": {},
   "source": [
    "Regular expressions don't need to be complicated to be useful! Even simple ones can save you a lot of time"
   ]
  },
  {
   "cell_type": "code",
   "execution_count": null,
   "metadata": {},
   "outputs": [],
   "source": [
    "gss_splitup <- mutate(gss_cat, \n",
    "       party    = str_extract(partyid, \"(Ind|rep|dem|Other party|No answer|Don't know)\"),\n",
    "       leaning  = str_extract(partyid, \"(rep|dem)\"),\n",
    "       strength_of_leaning = str_extract(partyid, \"(Strong|Not str|Ind,near)\")\n",
    "      ) "
   ]
  },
  {
   "cell_type": "code",
   "execution_count": null,
   "metadata": {
    "scrolled": true
   },
   "outputs": [],
   "source": [
    "print(select(gss_splitup, partyid, party, leaning, strength_of_leaning))"
   ]
  },
  {
   "cell_type": "code",
   "execution_count": null,
   "metadata": {},
   "outputs": [],
   "source": [
    "ggplot(gss_splitup) + geom_bar(aes(x=party, fill=paste0(leaning))) +\n",
    "    scale_fill_manual(values = c(dem=\"blue\", rep=\"red\", `NA`=\"grey\"))"
   ]
  },
  {
   "cell_type": "code",
   "execution_count": null,
   "metadata": {},
   "outputs": [],
   "source": [
    "ggplot(filter(gss_splitup, !is.na(leaning))) + geom_bar(aes(x=leaning, fill=strength_of_leaning))"
   ]
  },
  {
   "cell_type": "code",
   "execution_count": null,
   "metadata": {},
   "outputs": [],
   "source": [
    "ggplot(filter(gss_splitup, !is.na(leaning))) + geom_bar(aes(x=leaning, fill=strength_of_leaning), position=\"fill\")"
   ]
  }
 ],
 "metadata": {
  "kernelspec": {
   "display_name": "R",
   "language": "R",
   "name": "ir"
  },
  "language_info": {
   "codemirror_mode": "r",
   "file_extension": ".r",
   "mimetype": "text/x-r-source",
   "name": "R",
   "pygments_lexer": "r",
   "version": "4.1.2"
  }
 },
 "nbformat": 4,
 "nbformat_minor": 2
}
