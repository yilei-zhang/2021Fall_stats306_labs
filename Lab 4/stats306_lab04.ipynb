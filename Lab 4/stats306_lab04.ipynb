{
 "cells": [
  {
   "cell_type": "markdown",
   "metadata": {},
   "source": [
    "# Lab 4: Visualizing Distributions of IMDB Title Ratings\n"
   ]
  },
  {
   "cell_type": "markdown",
   "metadata": {},
   "source": [
    "# Preliminaries\n",
    "\n",
    "1. Comments about Homework 2 submissions\n",
    "  -  Most of you did well, but we have some general comments\n",
    "  -  Remember to read the questions carefully before submitting your answers. Many of you lost points because you didn't follow the exact instructions. Examples:\n",
    "      - In 1(a) it asks you to write the command to install the package tidyverse, and then load the tidyverse package into your current environment. You should show the code #install.packages(\"tidyverse\"), but can use # to make it a comment.\n",
    "      -  In 2(b) it asks you to write the command to get more information on the airquality data set, and then output the first 6 rows of the data set. Many students only use head() to check first 6 rows, but you also need to use ?airquality or summary(airquality) to get info about the dataset first.\n",
    "  -  Make sure your codes are shown completely in the html file and are not cropped.\n",
    "  -  Make sure the outputs are shown properly in your html or pdf files."
   ]
  },
  {
   "cell_type": "code",
   "execution_count": null,
   "metadata": {},
   "outputs": [],
   "source": [
    "library(tidyverse)"
   ]
  },
  {
   "cell_type": "markdown",
   "metadata": {},
   "source": [
    "# HW2 Challenge Question"
   ]
  },
  {
   "cell_type": "markdown",
   "metadata": {},
   "source": [
    "Load the diamonds data set. Reproduce the following plot.\n",
    "\n",
    "(Hint: for this plot, you will need figure out how to manually manipulate the ticks on the 𝑥 and 𝑦 axes.)\n",
    "\n",
    "![title](https://github.com/keanmingtan/stats306_fall2021/blob/main/HW/HW1/carat.png?raw=true)"
   ]
  },
  {
   "cell_type": "code",
   "execution_count": null,
   "metadata": {},
   "outputs": [],
   "source": [
    "ggplot(data=diamonds, aes(x = carat, y = price)) + geom_point()"
   ]
  },
  {
   "cell_type": "code",
   "execution_count": null,
   "metadata": {},
   "outputs": [],
   "source": [
    "ggplot(data=diamonds, aes(x = carat, y = price)) + \n",
    "    geom_point( )+ \n",
    "    scale_x_continuous(name = \"Carats\", trans = \"log10\", breaks=c(0.2,0.5, 1.0, 2.0,5.0), \n",
    "                       limits=c(0.2, 5.0)) +\n",
    "    scale_y_continuous(name = \"Price\", trans = \"log10\", breaks=c(500,1000, 2000, 5000,10000, 20000), \n",
    "                       limits=c(500, 20000))"
   ]
  },
  {
   "cell_type": "code",
   "execution_count": null,
   "metadata": {},
   "outputs": [],
   "source": [
    "ggplot(data = diamonds) + geom_point(mapping = aes(x = carat, y = price)) +\n",
    "    labs(x = \"Carats\", y = \"Price\") +\n",
    "    scale_x_log10(breaks = c(0.2, 0.5, 1.0, 2.0, 5.0), \n",
    "                  limits = c(0.2, 5.0)) +\n",
    "    scale_y_log10(breaks = c(500, 1000, 2000, 5000, 10000, 20000), \n",
    "                  limits = c(500,20000))"
   ]
  },
  {
   "cell_type": "markdown",
   "metadata": {},
   "source": [
    "# Visualizing IMDB Movie Ratings"
   ]
  },
  {
   "cell_type": "markdown",
   "metadata": {},
   "source": [
    "Original source: https://www.imdb.com/interfaces/"
   ]
  },
  {
   "cell_type": "markdown",
   "metadata": {},
   "source": [
    "In many cases, you can read compressed files directly with the ```read_*``` family of functions in tidyverse."
   ]
  },
  {
   "cell_type": "code",
   "execution_count": null,
   "metadata": {
    "scrolled": true
   },
   "outputs": [],
   "source": [
    "ratings <- read_tsv('https://raw.githubusercontent.com/dereklhansen/stats306_lab/master/lab4/title.ratings.tsv.gz')"
   ]
  },
  {
   "cell_type": "code",
   "execution_count": null,
   "metadata": {},
   "outputs": [],
   "source": [
    "print(ratings)"
   ]
  },
  {
   "cell_type": "code",
   "execution_count": null,
   "metadata": {},
   "outputs": [],
   "source": [
    "ggplot(ratings) + geom_histogram(aes(x=averageRating))"
   ]
  },
  {
   "cell_type": "markdown",
   "metadata": {},
   "source": [
    "What can we say about the distribution ratings?\n",
    "\n",
    "-  The peak is around 7.5\n",
    "-  The distribution is skewed left"
   ]
  },
  {
   "cell_type": "code",
   "execution_count": null,
   "metadata": {},
   "outputs": [],
   "source": [
    "ggplot(ratings) + geom_density(aes(x=averageRating))"
   ]
  },
  {
   "cell_type": "markdown",
   "metadata": {},
   "source": [
    "geom_density estimates the probability density function of your data. It relies on a smoothing parameter called the \"bandwidth\". If you select a higher bandwidth, the result will be smoother, but may discard local features. You can see what the default choice of bandwidth is by looking in the documentation."
   ]
  },
  {
   "cell_type": "code",
   "execution_count": null,
   "metadata": {},
   "outputs": [],
   "source": [
    "?geom_density\n",
    "?stats::bw.nrd0"
   ]
  },
  {
   "cell_type": "code",
   "execution_count": null,
   "metadata": {},
   "outputs": [],
   "source": [
    "default_bw = stats::bw.nrd0(ratings$averageRating)\n",
    "default_bw"
   ]
  },
  {
   "cell_type": "code",
   "execution_count": null,
   "metadata": {
    "scrolled": true
   },
   "outputs": [],
   "source": [
    "multipliers = c(1,1.25, 1.5, 10, 1000)\n",
    "for(m in multipliers) {\n",
    "    g <- ggplot(ratings) + \n",
    "        geom_density(aes(x=averageRating), bw=m*default_bw) + \n",
    "        ggtitle(paste0(\"Distribution of IMDB Movie ratings, bw=\", m*default_bw))\n",
    "    plot(g)\n",
    "}"
   ]
  },
  {
   "cell_type": "code",
   "execution_count": null,
   "metadata": {},
   "outputs": [],
   "source": [
    "principals <- read_tsv('https://datasets.imdbws.com/title.principals.tsv.gz')"
   ]
  },
  {
   "cell_type": "code",
   "execution_count": null,
   "metadata": {
    "scrolled": true
   },
   "outputs": [],
   "source": [
    "print(principals)"
   ]
  },
  {
   "cell_type": "code",
   "execution_count": null,
   "metadata": {},
   "outputs": [],
   "source": [
    "library(stringi)"
   ]
  },
  {
   "cell_type": "markdown",
   "metadata": {},
   "source": [
    "Suppose we want to compare the two greatest actors of our generation:\n",
    "\n",
    "![nic](https://raw.githubusercontent.com/dereklhansen/stats306_lab/master/lab4/nic.jpg) ![leo](https://raw.githubusercontent.com/dereklhansen/stats306_lab/master/lab4/leo.jpg)\n",
    "\n",
    "The dataset containing all actors and characters is really large, so I ran this code to generate a table which will tell us if Nicolas Cage or Leonardo DiCaprio were in a movie, and saved it to \"greatest_actors.csv.gz\". Note that write_csv will automatically compress the output if we have \".gz\" as the extension."
   ]
  },
  {
   "cell_type": "markdown",
   "metadata": {},
   "source": [
    "```\n",
    "greatest_actors <- principals %>% \n",
    "    mutate(actor=case_when(\n",
    "        nconst==\"nm0000115\"~\"Nicolas Cage\",\n",
    "        nconst==\"nm0000138\"~\"Leonardo DiCaprio\",\n",
    "        TRUE~\"Somebody else\"\n",
    "    )) %>%\n",
    "    group_by(tconst) %>%\n",
    "    summarize(has_nic=any(nconst==\"nm0000115\"), has_leo=any(nconst==\"nm0000138\"))\n",
    "write_csv(greatest_actors, \"greatest_actors.csv.gz\")\n",
    "```"
   ]
  },
  {
   "cell_type": "code",
   "execution_count": null,
   "metadata": {},
   "outputs": [],
   "source": [
    "greatest_actors <- read_csv(\"https://raw.githubusercontent.com/dereklhansen/stats306_lab/master/lab4/greatest_actors.csv.gz\")"
   ]
  },
  {
   "cell_type": "code",
   "execution_count": null,
   "metadata": {
    "scrolled": true
   },
   "outputs": [],
   "source": [
    "print(greatest_actors)"
   ]
  },
  {
   "cell_type": "markdown",
   "metadata": {},
   "source": [
    "We now join this table to our ratings table via the title identifier \"tconst\""
   ]
  },
  {
   "cell_type": "code",
   "execution_count": null,
   "metadata": {},
   "outputs": [],
   "source": [
    "ratings_actors <- inner_join(ratings, greatest_actors, by=\"tconst\")"
   ]
  },
  {
   "cell_type": "code",
   "execution_count": null,
   "metadata": {
    "scrolled": true
   },
   "outputs": [],
   "source": [
    "print(ratings_actors)"
   ]
  },
  {
   "cell_type": "markdown",
   "metadata": {},
   "source": [
    "A nifty use of the \"case_when\" function lets us construct a single variable, \"cast\", which will categorize movies into four groups:\n",
    "-  Has Nicolas Cage (\"Nic\"), but not Leonardo DiCaprio (\"Leo\")\n",
    "-  Has Leo, but not Nic\n",
    "-  Has both Leo and Nic\n",
    "-  Has neither Leo nor Nic"
   ]
  },
  {
   "cell_type": "code",
   "execution_count": null,
   "metadata": {},
   "outputs": [],
   "source": [
    "ratings_nic_vs_leo <- ratings_actors %>%\n",
    "    mutate(cast = case_when(\n",
    "        has_nic & !has_leo  ~ \"nic_only\",\n",
    "        !has_nic & has_leo  ~ \"leo_only\",\n",
    "        has_nic & has_leo   ~ \"both\",\n",
    "        !has_nic & !has_leo ~ \"neither\")) %>%\n",
    "    mutate(cast = as.factor(cast)) %>%\n",
    "    filter(numVotes > 10000)"
   ]
  },
  {
   "cell_type": "markdown",
   "metadata": {},
   "source": [
    "Let's look at the ratings of movies with Leonardo DiCaprio vs movies without him."
   ]
  },
  {
   "cell_type": "code",
   "execution_count": null,
   "metadata": {},
   "outputs": [],
   "source": [
    "ggplot(ratings_nic_vs_leo, aes(x=averageRating, fill=has_leo, group=has_leo)) + geom_histogram()"
   ]
  },
  {
   "cell_type": "markdown",
   "metadata": {},
   "source": [
    "Wait, what happened? Since the y-axis is count, the number of movies with Leo in them is dwarfed by the number of total titles in the dataset. Even the most prolific actors can't star in that many movies.\n",
    "\n",
    "There's a way to fix the histogram to be proportional and compare groups; this is left as an exercise."
   ]
  },
  {
   "cell_type": "markdown",
   "metadata": {},
   "source": [
    "Instead, we can use geom_density to compare the distribution of a variable between different groups."
   ]
  },
  {
   "cell_type": "code",
   "execution_count": null,
   "metadata": {
    "scrolled": true
   },
   "outputs": [],
   "source": [
    "ggplot(ratings_nic_vs_leo, aes(x=averageRating, color=has_leo, group=has_leo)) + geom_density()"
   ]
  },
  {
   "cell_type": "code",
   "execution_count": null,
   "metadata": {
    "scrolled": true
   },
   "outputs": [],
   "source": [
    "ggplot(ratings_nic_vs_leo, aes(x=averageRating, color=has_nic, group=has_nic)) + geom_density()"
   ]
  },
  {
   "cell_type": "markdown",
   "metadata": {},
   "source": [
    "We can look at the distributions of all four of our groups. Note that this gets a bit messy and hard to read."
   ]
  },
  {
   "cell_type": "code",
   "execution_count": null,
   "metadata": {
    "scrolled": false
   },
   "outputs": [],
   "source": [
    "ggplot(ratings_nic_vs_leo, aes(x=averageRating, color=cast, group=cast)) + geom_density()"
   ]
  },
  {
   "cell_type": "markdown",
   "metadata": {},
   "source": [
    "The \"geom_boxplot\" function is another handy way to visualize distributions. It is arguably more foolproof than geom_density because it directly plots the quartiles of distributions. It also makes it easier to visually compare many distributions"
   ]
  },
  {
   "cell_type": "code",
   "execution_count": null,
   "metadata": {},
   "outputs": [],
   "source": [
    "ggplot(ratings_nic_vs_leo, aes(x=averageRating, color=cast, group=cast)) + geom_boxplot()"
   ]
  },
  {
   "cell_type": "markdown",
   "metadata": {},
   "source": [
    "Here we see that Nic does generally worse in his movie ratings than Leo. Moreover, Nic has been in some particularly low-rated titles, shown by the outlier dots."
   ]
  },
  {
   "cell_type": "markdown",
   "metadata": {},
   "source": [
    "The summary statistics for each group can be seen here:"
   ]
  },
  {
   "cell_type": "code",
   "execution_count": null,
   "metadata": {},
   "outputs": [],
   "source": [
    "ratings_nic_vs_leo %>%\n",
    "    group_by(cast) %>%\n",
    "    summarize(\n",
    "        worst=min(averageRating),\n",
    "        q25=quantile(averageRating, 0.25),\n",
    "        q50=quantile(averageRating, 0.50),\n",
    "        q75=quantile(averageRating, 0.75),\n",
    "        best=max(averageRating))"
   ]
  }
 ],
 "metadata": {
  "kernelspec": {
   "display_name": "R",
   "language": "R",
   "name": "ir"
  },
  "language_info": {
   "codemirror_mode": "r",
   "file_extension": ".r",
   "mimetype": "text/x-r-source",
   "name": "R",
   "pygments_lexer": "r",
   "version": "4.1.1"
  }
 },
 "nbformat": 4,
 "nbformat_minor": 2
}
