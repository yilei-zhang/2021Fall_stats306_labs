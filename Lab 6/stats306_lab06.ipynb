{
 "cells": [
  {
   "cell_type": "markdown",
   "metadata": {},
   "source": [
    "# Lab 06 \n",
    "\n"
   ]
  },
  {
   "cell_type": "markdown",
   "metadata": {},
   "source": [
    "## Final Project Signup"
   ]
  },
  {
   "cell_type": "markdown",
   "metadata": {},
   "source": [
    "- You can use this link to find teammates: https://docs.google.com/spreadsheets/d/1Fg_DOIQAz2OuagbbJD27GyluZFROwhJaAdJcZjTZsAQ/edit?usp=sharing\n",
    "\n",
    "- **Please attend the next week's lab on Nov 3rd, and we will talk about details of the final project.**\n",
    "\n",
    "- Note 1: each team should have 3-4 members. Please do not form teams with only one member.\n",
    "\n",
    "- Note 2: this sheet is just for forming teams, please do not start working on the project yet, \n",
    "  we may modify the dataset slightly.\n",
    "  \n",
    "- Note 3: Only students from the same lab could form one team.\t\n",
    "\n",
    "- Note 4: Each team can choose any data set from 4 data sets given (More details in next week's lab). \t\n"
   ]
  },
  {
   "cell_type": "markdown",
   "metadata": {},
   "source": [
    "## Review left_join() and relational data"
   ]
  },
  {
   "cell_type": "code",
   "execution_count": 8,
   "metadata": {},
   "outputs": [],
   "source": [
    "library(tidyverse)\n",
    "library(nycflights13)"
   ]
  },
  {
   "cell_type": "markdown",
   "metadata": {},
   "source": [
    "### Duplicate keys:\n",
    "1. One table has duplicate keys. This is useful when you want to add in additional information as there is typically a one-to-many relationship. ![duplicate keys](http://r4ds.had.co.nz/diagrams/join-one-to-many.png)"
   ]
  },
  {
   "cell_type": "code",
   "execution_count": 9,
   "metadata": {},
   "outputs": [],
   "source": [
    "x <- tribble(\n",
    "  ~key, ~val_x,\n",
    "     1, \"x1\",\n",
    "     2, \"x2\",\n",
    "     2, \"x3\",\n",
    "     1, \"x4\"\n",
    ")\n",
    "y <- tribble(\n",
    "  ~key, ~val_y,\n",
    "     1, \"y1\",\n",
    "     2, \"y2\"\n",
    ")"
   ]
  },
  {
   "cell_type": "code",
   "execution_count": 10,
   "metadata": {},
   "outputs": [
    {
     "data": {
      "text/html": [
       "<table class=\"dataframe\">\n",
       "<caption>A tibble: 4 × 3</caption>\n",
       "<thead>\n",
       "\t<tr><th scope=col>key</th><th scope=col>val_x</th><th scope=col>val_y</th></tr>\n",
       "\t<tr><th scope=col>&lt;dbl&gt;</th><th scope=col>&lt;chr&gt;</th><th scope=col>&lt;chr&gt;</th></tr>\n",
       "</thead>\n",
       "<tbody>\n",
       "\t<tr><td>1</td><td>x1</td><td>y1</td></tr>\n",
       "\t<tr><td>2</td><td>x2</td><td>y2</td></tr>\n",
       "\t<tr><td>2</td><td>x3</td><td>y2</td></tr>\n",
       "\t<tr><td>1</td><td>x4</td><td>y1</td></tr>\n",
       "</tbody>\n",
       "</table>\n"
      ],
      "text/latex": [
       "A tibble: 4 × 3\n",
       "\\begin{tabular}{lll}\n",
       " key & val\\_x & val\\_y\\\\\n",
       " <dbl> & <chr> & <chr>\\\\\n",
       "\\hline\n",
       "\t 1 & x1 & y1\\\\\n",
       "\t 2 & x2 & y2\\\\\n",
       "\t 2 & x3 & y2\\\\\n",
       "\t 1 & x4 & y1\\\\\n",
       "\\end{tabular}\n"
      ],
      "text/markdown": [
       "\n",
       "A tibble: 4 × 3\n",
       "\n",
       "| key &lt;dbl&gt; | val_x &lt;chr&gt; | val_y &lt;chr&gt; |\n",
       "|---|---|---|\n",
       "| 1 | x1 | y1 |\n",
       "| 2 | x2 | y2 |\n",
       "| 2 | x3 | y2 |\n",
       "| 1 | x4 | y1 |\n",
       "\n"
      ],
      "text/plain": [
       "  key val_x val_y\n",
       "1 1   x1    y1   \n",
       "2 2   x2    y2   \n",
       "3 2   x3    y2   \n",
       "4 1   x4    y1   "
      ]
     },
     "metadata": {},
     "output_type": "display_data"
    }
   ],
   "source": [
    "left_join(x, y, by = \"key\")"
   ]
  },
  {
   "cell_type": "markdown",
   "metadata": {},
   "source": [
    "2. Both tables have duplicate keys\n",
    "This represents a many-to-many join and is usually an error since they key does not uniquely identify observations in either table. Joining duplicated keys results in the Cartesian product of all the possible matches:\n",
    "![cartesian](http://r4ds.had.co.nz/diagrams/join-many-to-many.png)"
   ]
  },
  {
   "cell_type": "code",
   "execution_count": 11,
   "metadata": {},
   "outputs": [],
   "source": [
    "x <- tribble(\n",
    "  ~key, ~val_x,\n",
    "     1, \"x1\",\n",
    "     2, \"x2\",\n",
    "     2, \"x3\",\n",
    "     3, \"x4\"\n",
    ")\n",
    "y <- tribble(\n",
    "  ~key, ~val_y,\n",
    "     1, \"y1\",\n",
    "     2, \"y2\",\n",
    "     2, \"y3\",\n",
    "     3, \"y4\"\n",
    ")\n"
   ]
  },
  {
   "cell_type": "code",
   "execution_count": 12,
   "metadata": {},
   "outputs": [
    {
     "data": {
      "text/html": [
       "<table class=\"dataframe\">\n",
       "<caption>A tibble: 6 × 3</caption>\n",
       "<thead>\n",
       "\t<tr><th scope=col>key</th><th scope=col>val_x</th><th scope=col>val_y</th></tr>\n",
       "\t<tr><th scope=col>&lt;dbl&gt;</th><th scope=col>&lt;chr&gt;</th><th scope=col>&lt;chr&gt;</th></tr>\n",
       "</thead>\n",
       "<tbody>\n",
       "\t<tr><td>1</td><td>x1</td><td>y1</td></tr>\n",
       "\t<tr><td>2</td><td>x2</td><td>y2</td></tr>\n",
       "\t<tr><td>2</td><td>x2</td><td>y3</td></tr>\n",
       "\t<tr><td>2</td><td>x3</td><td>y2</td></tr>\n",
       "\t<tr><td>2</td><td>x3</td><td>y3</td></tr>\n",
       "\t<tr><td>3</td><td>x4</td><td>y4</td></tr>\n",
       "</tbody>\n",
       "</table>\n"
      ],
      "text/latex": [
       "A tibble: 6 × 3\n",
       "\\begin{tabular}{lll}\n",
       " key & val\\_x & val\\_y\\\\\n",
       " <dbl> & <chr> & <chr>\\\\\n",
       "\\hline\n",
       "\t 1 & x1 & y1\\\\\n",
       "\t 2 & x2 & y2\\\\\n",
       "\t 2 & x2 & y3\\\\\n",
       "\t 2 & x3 & y2\\\\\n",
       "\t 2 & x3 & y3\\\\\n",
       "\t 3 & x4 & y4\\\\\n",
       "\\end{tabular}\n"
      ],
      "text/markdown": [
       "\n",
       "A tibble: 6 × 3\n",
       "\n",
       "| key &lt;dbl&gt; | val_x &lt;chr&gt; | val_y &lt;chr&gt; |\n",
       "|---|---|---|\n",
       "| 1 | x1 | y1 |\n",
       "| 2 | x2 | y2 |\n",
       "| 2 | x2 | y3 |\n",
       "| 2 | x3 | y2 |\n",
       "| 2 | x3 | y3 |\n",
       "| 3 | x4 | y4 |\n",
       "\n"
      ],
      "text/plain": [
       "  key val_x val_y\n",
       "1 1   x1    y1   \n",
       "2 2   x2    y2   \n",
       "3 2   x2    y3   \n",
       "4 2   x3    y2   \n",
       "5 2   x3    y3   \n",
       "6 3   x4    y4   "
      ]
     },
     "metadata": {},
     "output_type": "display_data"
    }
   ],
   "source": [
    "left_join(x, y, by = \"key\")"
   ]
  },
  {
   "cell_type": "markdown",
   "metadata": {},
   "source": [
    "### Defining the key columns\n",
    "When we do a join using `left_join()`, R take as the key whatever column names the two tables have in common:"
   ]
  },
  {
   "cell_type": "code",
   "execution_count": 14,
   "metadata": {},
   "outputs": [],
   "source": [
    "flights2 <- flights %>% \n",
    "  select(year:day, hour, origin, dest, tailnum, carrier)"
   ]
  },
  {
   "cell_type": "markdown",
   "metadata": {},
   "source": [
    "1. The default, by = NULL, uses all variables that appear in both tables, the so called natural join. For example, the flights and weather tables match on their common variables: year, month, day, hour and origin."
   ]
  },
  {
   "cell_type": "code",
   "execution_count": 20,
   "metadata": {},
   "outputs": [
    {
     "data": {
      "text/html": [
       "<style>\n",
       ".list-inline {list-style: none; margin:0; padding: 0}\n",
       ".list-inline>li {display: inline-block}\n",
       ".list-inline>li:not(:last-child)::after {content: \"\\00b7\"; padding: 0 .5ex}\n",
       "</style>\n",
       "<ol class=list-inline><li>'year'</li><li>'month'</li><li>'day'</li><li>'hour'</li><li>'origin'</li><li>'dest'</li><li>'tailnum'</li><li>'carrier'</li></ol>\n"
      ],
      "text/latex": [
       "\\begin{enumerate*}\n",
       "\\item 'year'\n",
       "\\item 'month'\n",
       "\\item 'day'\n",
       "\\item 'hour'\n",
       "\\item 'origin'\n",
       "\\item 'dest'\n",
       "\\item 'tailnum'\n",
       "\\item 'carrier'\n",
       "\\end{enumerate*}\n"
      ],
      "text/markdown": [
       "1. 'year'\n",
       "2. 'month'\n",
       "3. 'day'\n",
       "4. 'hour'\n",
       "5. 'origin'\n",
       "6. 'dest'\n",
       "7. 'tailnum'\n",
       "8. 'carrier'\n",
       "\n",
       "\n"
      ],
      "text/plain": [
       "[1] \"year\"    \"month\"   \"day\"     \"hour\"    \"origin\"  \"dest\"    \"tailnum\"\n",
       "[8] \"carrier\""
      ]
     },
     "metadata": {},
     "output_type": "display_data"
    },
    {
     "data": {
      "text/html": [
       "<style>\n",
       ".list-inline {list-style: none; margin:0; padding: 0}\n",
       ".list-inline>li {display: inline-block}\n",
       ".list-inline>li:not(:last-child)::after {content: \"\\00b7\"; padding: 0 .5ex}\n",
       "</style>\n",
       "<ol class=list-inline><li>'origin'</li><li>'year'</li><li>'month'</li><li>'day'</li><li>'hour'</li><li>'temp'</li><li>'dewp'</li><li>'humid'</li><li>'wind_dir'</li><li>'wind_speed'</li><li>'wind_gust'</li><li>'precip'</li><li>'pressure'</li><li>'visib'</li><li>'time_hour'</li></ol>\n"
      ],
      "text/latex": [
       "\\begin{enumerate*}\n",
       "\\item 'origin'\n",
       "\\item 'year'\n",
       "\\item 'month'\n",
       "\\item 'day'\n",
       "\\item 'hour'\n",
       "\\item 'temp'\n",
       "\\item 'dewp'\n",
       "\\item 'humid'\n",
       "\\item 'wind\\_dir'\n",
       "\\item 'wind\\_speed'\n",
       "\\item 'wind\\_gust'\n",
       "\\item 'precip'\n",
       "\\item 'pressure'\n",
       "\\item 'visib'\n",
       "\\item 'time\\_hour'\n",
       "\\end{enumerate*}\n"
      ],
      "text/markdown": [
       "1. 'origin'\n",
       "2. 'year'\n",
       "3. 'month'\n",
       "4. 'day'\n",
       "5. 'hour'\n",
       "6. 'temp'\n",
       "7. 'dewp'\n",
       "8. 'humid'\n",
       "9. 'wind_dir'\n",
       "10. 'wind_speed'\n",
       "11. 'wind_gust'\n",
       "12. 'precip'\n",
       "13. 'pressure'\n",
       "14. 'visib'\n",
       "15. 'time_hour'\n",
       "\n",
       "\n"
      ],
      "text/plain": [
       " [1] \"origin\"     \"year\"       \"month\"      \"day\"        \"hour\"      \n",
       " [6] \"temp\"       \"dewp\"       \"humid\"      \"wind_dir\"   \"wind_speed\"\n",
       "[11] \"wind_gust\"  \"precip\"     \"pressure\"   \"visib\"      \"time_hour\" "
      ]
     },
     "metadata": {},
     "output_type": "display_data"
    }
   ],
   "source": [
    "names(flights2)\n",
    "names(weather)"
   ]
  },
  {
   "cell_type": "code",
   "execution_count": 23,
   "metadata": {},
   "outputs": [
    {
     "name": "stderr",
     "output_type": "stream",
     "text": [
      "Joining, by = c(\"year\", \"month\", \"day\", \"hour\", \"origin\")\n",
      "\n"
     ]
    },
    {
     "data": {
      "text/html": [
       "<table class=\"dataframe\">\n",
       "<caption>A tibble: 6 × 18</caption>\n",
       "<thead>\n",
       "\t<tr><th scope=col>year</th><th scope=col>month</th><th scope=col>day</th><th scope=col>hour</th><th scope=col>origin</th><th scope=col>dest</th><th scope=col>tailnum</th><th scope=col>carrier</th><th scope=col>temp</th><th scope=col>dewp</th><th scope=col>humid</th><th scope=col>wind_dir</th><th scope=col>wind_speed</th><th scope=col>wind_gust</th><th scope=col>precip</th><th scope=col>pressure</th><th scope=col>visib</th><th scope=col>time_hour</th></tr>\n",
       "\t<tr><th scope=col>&lt;int&gt;</th><th scope=col>&lt;int&gt;</th><th scope=col>&lt;int&gt;</th><th scope=col>&lt;dbl&gt;</th><th scope=col>&lt;chr&gt;</th><th scope=col>&lt;chr&gt;</th><th scope=col>&lt;chr&gt;</th><th scope=col>&lt;chr&gt;</th><th scope=col>&lt;dbl&gt;</th><th scope=col>&lt;dbl&gt;</th><th scope=col>&lt;dbl&gt;</th><th scope=col>&lt;dbl&gt;</th><th scope=col>&lt;dbl&gt;</th><th scope=col>&lt;dbl&gt;</th><th scope=col>&lt;dbl&gt;</th><th scope=col>&lt;dbl&gt;</th><th scope=col>&lt;dbl&gt;</th><th scope=col>&lt;dttm&gt;</th></tr>\n",
       "</thead>\n",
       "<tbody>\n",
       "\t<tr><td>2013</td><td>1</td><td>1</td><td>5</td><td>EWR</td><td>IAH</td><td>N14228</td><td>UA</td><td>39.02</td><td>28.04</td><td>64.43</td><td>260</td><td>12.65858</td><td>      NA</td><td>0</td><td>1011.9</td><td>10</td><td>2013-01-01 05:00:00</td></tr>\n",
       "\t<tr><td>2013</td><td>1</td><td>1</td><td>5</td><td>LGA</td><td>IAH</td><td>N24211</td><td>UA</td><td>39.92</td><td>24.98</td><td>54.81</td><td>250</td><td>14.96014</td><td>21.86482</td><td>0</td><td>1011.4</td><td>10</td><td>2013-01-01 05:00:00</td></tr>\n",
       "\t<tr><td>2013</td><td>1</td><td>1</td><td>5</td><td>JFK</td><td>MIA</td><td>N619AA</td><td>AA</td><td>39.02</td><td>26.96</td><td>61.63</td><td>260</td><td>14.96014</td><td>      NA</td><td>0</td><td>1012.1</td><td>10</td><td>2013-01-01 05:00:00</td></tr>\n",
       "\t<tr><td>2013</td><td>1</td><td>1</td><td>5</td><td>JFK</td><td>BQN</td><td>N804JB</td><td>B6</td><td>39.02</td><td>26.96</td><td>61.63</td><td>260</td><td>14.96014</td><td>      NA</td><td>0</td><td>1012.1</td><td>10</td><td>2013-01-01 05:00:00</td></tr>\n",
       "\t<tr><td>2013</td><td>1</td><td>1</td><td>6</td><td>LGA</td><td>ATL</td><td>N668DN</td><td>DL</td><td>39.92</td><td>24.98</td><td>54.81</td><td>260</td><td>16.11092</td><td>23.01560</td><td>0</td><td>1011.7</td><td>10</td><td>2013-01-01 06:00:00</td></tr>\n",
       "\t<tr><td>2013</td><td>1</td><td>1</td><td>5</td><td>EWR</td><td>ORD</td><td>N39463</td><td>UA</td><td>39.02</td><td>28.04</td><td>64.43</td><td>260</td><td>12.65858</td><td>      NA</td><td>0</td><td>1011.9</td><td>10</td><td>2013-01-01 05:00:00</td></tr>\n",
       "</tbody>\n",
       "</table>\n"
      ],
      "text/latex": [
       "A tibble: 6 × 18\n",
       "\\begin{tabular}{llllllllllllllllll}\n",
       " year & month & day & hour & origin & dest & tailnum & carrier & temp & dewp & humid & wind\\_dir & wind\\_speed & wind\\_gust & precip & pressure & visib & time\\_hour\\\\\n",
       " <int> & <int> & <int> & <dbl> & <chr> & <chr> & <chr> & <chr> & <dbl> & <dbl> & <dbl> & <dbl> & <dbl> & <dbl> & <dbl> & <dbl> & <dbl> & <dttm>\\\\\n",
       "\\hline\n",
       "\t 2013 & 1 & 1 & 5 & EWR & IAH & N14228 & UA & 39.02 & 28.04 & 64.43 & 260 & 12.65858 &       NA & 0 & 1011.9 & 10 & 2013-01-01 05:00:00\\\\\n",
       "\t 2013 & 1 & 1 & 5 & LGA & IAH & N24211 & UA & 39.92 & 24.98 & 54.81 & 250 & 14.96014 & 21.86482 & 0 & 1011.4 & 10 & 2013-01-01 05:00:00\\\\\n",
       "\t 2013 & 1 & 1 & 5 & JFK & MIA & N619AA & AA & 39.02 & 26.96 & 61.63 & 260 & 14.96014 &       NA & 0 & 1012.1 & 10 & 2013-01-01 05:00:00\\\\\n",
       "\t 2013 & 1 & 1 & 5 & JFK & BQN & N804JB & B6 & 39.02 & 26.96 & 61.63 & 260 & 14.96014 &       NA & 0 & 1012.1 & 10 & 2013-01-01 05:00:00\\\\\n",
       "\t 2013 & 1 & 1 & 6 & LGA & ATL & N668DN & DL & 39.92 & 24.98 & 54.81 & 260 & 16.11092 & 23.01560 & 0 & 1011.7 & 10 & 2013-01-01 06:00:00\\\\\n",
       "\t 2013 & 1 & 1 & 5 & EWR & ORD & N39463 & UA & 39.02 & 28.04 & 64.43 & 260 & 12.65858 &       NA & 0 & 1011.9 & 10 & 2013-01-01 05:00:00\\\\\n",
       "\\end{tabular}\n"
      ],
      "text/markdown": [
       "\n",
       "A tibble: 6 × 18\n",
       "\n",
       "| year &lt;int&gt; | month &lt;int&gt; | day &lt;int&gt; | hour &lt;dbl&gt; | origin &lt;chr&gt; | dest &lt;chr&gt; | tailnum &lt;chr&gt; | carrier &lt;chr&gt; | temp &lt;dbl&gt; | dewp &lt;dbl&gt; | humid &lt;dbl&gt; | wind_dir &lt;dbl&gt; | wind_speed &lt;dbl&gt; | wind_gust &lt;dbl&gt; | precip &lt;dbl&gt; | pressure &lt;dbl&gt; | visib &lt;dbl&gt; | time_hour &lt;dttm&gt; |\n",
       "|---|---|---|---|---|---|---|---|---|---|---|---|---|---|---|---|---|---|\n",
       "| 2013 | 1 | 1 | 5 | EWR | IAH | N14228 | UA | 39.02 | 28.04 | 64.43 | 260 | 12.65858 |       NA | 0 | 1011.9 | 10 | 2013-01-01 05:00:00 |\n",
       "| 2013 | 1 | 1 | 5 | LGA | IAH | N24211 | UA | 39.92 | 24.98 | 54.81 | 250 | 14.96014 | 21.86482 | 0 | 1011.4 | 10 | 2013-01-01 05:00:00 |\n",
       "| 2013 | 1 | 1 | 5 | JFK | MIA | N619AA | AA | 39.02 | 26.96 | 61.63 | 260 | 14.96014 |       NA | 0 | 1012.1 | 10 | 2013-01-01 05:00:00 |\n",
       "| 2013 | 1 | 1 | 5 | JFK | BQN | N804JB | B6 | 39.02 | 26.96 | 61.63 | 260 | 14.96014 |       NA | 0 | 1012.1 | 10 | 2013-01-01 05:00:00 |\n",
       "| 2013 | 1 | 1 | 6 | LGA | ATL | N668DN | DL | 39.92 | 24.98 | 54.81 | 260 | 16.11092 | 23.01560 | 0 | 1011.7 | 10 | 2013-01-01 06:00:00 |\n",
       "| 2013 | 1 | 1 | 5 | EWR | ORD | N39463 | UA | 39.02 | 28.04 | 64.43 | 260 | 12.65858 |       NA | 0 | 1011.9 | 10 | 2013-01-01 05:00:00 |\n",
       "\n"
      ],
      "text/plain": [
       "  year month day hour origin dest tailnum carrier temp  dewp  humid wind_dir\n",
       "1 2013 1     1   5    EWR    IAH  N14228  UA      39.02 28.04 64.43 260     \n",
       "2 2013 1     1   5    LGA    IAH  N24211  UA      39.92 24.98 54.81 250     \n",
       "3 2013 1     1   5    JFK    MIA  N619AA  AA      39.02 26.96 61.63 260     \n",
       "4 2013 1     1   5    JFK    BQN  N804JB  B6      39.02 26.96 61.63 260     \n",
       "5 2013 1     1   6    LGA    ATL  N668DN  DL      39.92 24.98 54.81 260     \n",
       "6 2013 1     1   5    EWR    ORD  N39463  UA      39.02 28.04 64.43 260     \n",
       "  wind_speed wind_gust precip pressure visib time_hour          \n",
       "1 12.65858         NA  0      1011.9   10    2013-01-01 05:00:00\n",
       "2 14.96014   21.86482  0      1011.4   10    2013-01-01 05:00:00\n",
       "3 14.96014         NA  0      1012.1   10    2013-01-01 05:00:00\n",
       "4 14.96014         NA  0      1012.1   10    2013-01-01 05:00:00\n",
       "5 16.11092   23.01560  0      1011.7   10    2013-01-01 06:00:00\n",
       "6 12.65858         NA  0      1011.9   10    2013-01-01 05:00:00"
      ]
     },
     "metadata": {},
     "output_type": "display_data"
    }
   ],
   "source": [
    "flights2 %>% \n",
    "  left_join(weather)"
   ]
  },
  {
   "cell_type": "code",
   "execution_count": 21,
   "metadata": {},
   "outputs": [
    {
     "data": {
      "text/html": [
       "<table class=\"dataframe\">\n",
       "<caption>A tibble: 2 × 8</caption>\n",
       "<thead>\n",
       "\t<tr><th scope=col>year</th><th scope=col>month</th><th scope=col>day</th><th scope=col>hour</th><th scope=col>origin</th><th scope=col>dest</th><th scope=col>tailnum</th><th scope=col>carrier</th></tr>\n",
       "\t<tr><th scope=col>&lt;int&gt;</th><th scope=col>&lt;int&gt;</th><th scope=col>&lt;int&gt;</th><th scope=col>&lt;dbl&gt;</th><th scope=col>&lt;chr&gt;</th><th scope=col>&lt;chr&gt;</th><th scope=col>&lt;chr&gt;</th><th scope=col>&lt;chr&gt;</th></tr>\n",
       "</thead>\n",
       "<tbody>\n",
       "\t<tr><td>2013</td><td>1</td><td>1</td><td>5</td><td>EWR</td><td>IAH</td><td>N14228</td><td>UA</td></tr>\n",
       "\t<tr><td>2013</td><td>1</td><td>1</td><td>5</td><td>EWR</td><td>ORD</td><td>N39463</td><td>UA</td></tr>\n",
       "</tbody>\n",
       "</table>\n"
      ],
      "text/latex": [
       "A tibble: 2 × 8\n",
       "\\begin{tabular}{llllllll}\n",
       " year & month & day & hour & origin & dest & tailnum & carrier\\\\\n",
       " <int> & <int> & <int> & <dbl> & <chr> & <chr> & <chr> & <chr>\\\\\n",
       "\\hline\n",
       "\t 2013 & 1 & 1 & 5 & EWR & IAH & N14228 & UA\\\\\n",
       "\t 2013 & 1 & 1 & 5 & EWR & ORD & N39463 & UA\\\\\n",
       "\\end{tabular}\n"
      ],
      "text/markdown": [
       "\n",
       "A tibble: 2 × 8\n",
       "\n",
       "| year &lt;int&gt; | month &lt;int&gt; | day &lt;int&gt; | hour &lt;dbl&gt; | origin &lt;chr&gt; | dest &lt;chr&gt; | tailnum &lt;chr&gt; | carrier &lt;chr&gt; |\n",
       "|---|---|---|---|---|---|---|---|\n",
       "| 2013 | 1 | 1 | 5 | EWR | IAH | N14228 | UA |\n",
       "| 2013 | 1 | 1 | 5 | EWR | ORD | N39463 | UA |\n",
       "\n"
      ],
      "text/plain": [
       "  year month day hour origin dest tailnum carrier\n",
       "1 2013 1     1   5    EWR    IAH  N14228  UA     \n",
       "2 2013 1     1   5    EWR    ORD  N39463  UA     "
      ]
     },
     "metadata": {},
     "output_type": "display_data"
    }
   ],
   "source": [
    "flights2 %>% filter(year==2013, month==1, day==1, hour==5, origin==\"EWR\")"
   ]
  },
  {
   "cell_type": "code",
   "execution_count": 22,
   "metadata": {},
   "outputs": [
    {
     "data": {
      "text/html": [
       "<table class=\"dataframe\">\n",
       "<caption>A tibble: 1 × 15</caption>\n",
       "<thead>\n",
       "\t<tr><th scope=col>origin</th><th scope=col>year</th><th scope=col>month</th><th scope=col>day</th><th scope=col>hour</th><th scope=col>temp</th><th scope=col>dewp</th><th scope=col>humid</th><th scope=col>wind_dir</th><th scope=col>wind_speed</th><th scope=col>wind_gust</th><th scope=col>precip</th><th scope=col>pressure</th><th scope=col>visib</th><th scope=col>time_hour</th></tr>\n",
       "\t<tr><th scope=col>&lt;chr&gt;</th><th scope=col>&lt;int&gt;</th><th scope=col>&lt;int&gt;</th><th scope=col>&lt;int&gt;</th><th scope=col>&lt;int&gt;</th><th scope=col>&lt;dbl&gt;</th><th scope=col>&lt;dbl&gt;</th><th scope=col>&lt;dbl&gt;</th><th scope=col>&lt;dbl&gt;</th><th scope=col>&lt;dbl&gt;</th><th scope=col>&lt;dbl&gt;</th><th scope=col>&lt;dbl&gt;</th><th scope=col>&lt;dbl&gt;</th><th scope=col>&lt;dbl&gt;</th><th scope=col>&lt;dttm&gt;</th></tr>\n",
       "</thead>\n",
       "<tbody>\n",
       "\t<tr><td>EWR</td><td>2013</td><td>1</td><td>1</td><td>5</td><td>39.02</td><td>28.04</td><td>64.43</td><td>260</td><td>12.65858</td><td>NA</td><td>0</td><td>1011.9</td><td>10</td><td>2013-01-01 05:00:00</td></tr>\n",
       "</tbody>\n",
       "</table>\n"
      ],
      "text/latex": [
       "A tibble: 1 × 15\n",
       "\\begin{tabular}{lllllllllllllll}\n",
       " origin & year & month & day & hour & temp & dewp & humid & wind\\_dir & wind\\_speed & wind\\_gust & precip & pressure & visib & time\\_hour\\\\\n",
       " <chr> & <int> & <int> & <int> & <int> & <dbl> & <dbl> & <dbl> & <dbl> & <dbl> & <dbl> & <dbl> & <dbl> & <dbl> & <dttm>\\\\\n",
       "\\hline\n",
       "\t EWR & 2013 & 1 & 1 & 5 & 39.02 & 28.04 & 64.43 & 260 & 12.65858 & NA & 0 & 1011.9 & 10 & 2013-01-01 05:00:00\\\\\n",
       "\\end{tabular}\n"
      ],
      "text/markdown": [
       "\n",
       "A tibble: 1 × 15\n",
       "\n",
       "| origin &lt;chr&gt; | year &lt;int&gt; | month &lt;int&gt; | day &lt;int&gt; | hour &lt;int&gt; | temp &lt;dbl&gt; | dewp &lt;dbl&gt; | humid &lt;dbl&gt; | wind_dir &lt;dbl&gt; | wind_speed &lt;dbl&gt; | wind_gust &lt;dbl&gt; | precip &lt;dbl&gt; | pressure &lt;dbl&gt; | visib &lt;dbl&gt; | time_hour &lt;dttm&gt; |\n",
       "|---|---|---|---|---|---|---|---|---|---|---|---|---|---|---|\n",
       "| EWR | 2013 | 1 | 1 | 5 | 39.02 | 28.04 | 64.43 | 260 | 12.65858 | NA | 0 | 1011.9 | 10 | 2013-01-01 05:00:00 |\n",
       "\n"
      ],
      "text/plain": [
       "  origin year month day hour temp  dewp  humid wind_dir wind_speed wind_gust\n",
       "1 EWR    2013 1     1   5    39.02 28.04 64.43 260      12.65858   NA       \n",
       "  precip pressure visib time_hour          \n",
       "1 0      1011.9   10    2013-01-01 05:00:00"
      ]
     },
     "metadata": {},
     "output_type": "display_data"
    }
   ],
   "source": [
    "weather %>% filter(year==2013, month==1, day==1, hour==5, origin==\"EWR\")"
   ]
  },
  {
   "cell_type": "markdown",
   "metadata": {},
   "source": [
    "2. A character vector, by = \"x\". This is like a natural join, but uses only some of the common variables. For example, flights and planes have year variables, but they mean different things so we only want to join by tailnum."
   ]
  },
  {
   "cell_type": "code",
   "execution_count": 24,
   "metadata": {},
   "outputs": [
    {
     "data": {
      "text/html": [
       "<style>\n",
       ".list-inline {list-style: none; margin:0; padding: 0}\n",
       ".list-inline>li {display: inline-block}\n",
       ".list-inline>li:not(:last-child)::after {content: \"\\00b7\"; padding: 0 .5ex}\n",
       "</style>\n",
       "<ol class=list-inline><li>'year'</li><li>'month'</li><li>'day'</li><li>'dep_time'</li><li>'sched_dep_time'</li><li>'dep_delay'</li><li>'arr_time'</li><li>'sched_arr_time'</li><li>'arr_delay'</li><li>'carrier'</li><li>'flight'</li><li>'tailnum'</li><li>'origin'</li><li>'dest'</li><li>'air_time'</li><li>'distance'</li><li>'hour'</li><li>'minute'</li><li>'time_hour'</li></ol>\n"
      ],
      "text/latex": [
       "\\begin{enumerate*}\n",
       "\\item 'year'\n",
       "\\item 'month'\n",
       "\\item 'day'\n",
       "\\item 'dep\\_time'\n",
       "\\item 'sched\\_dep\\_time'\n",
       "\\item 'dep\\_delay'\n",
       "\\item 'arr\\_time'\n",
       "\\item 'sched\\_arr\\_time'\n",
       "\\item 'arr\\_delay'\n",
       "\\item 'carrier'\n",
       "\\item 'flight'\n",
       "\\item 'tailnum'\n",
       "\\item 'origin'\n",
       "\\item 'dest'\n",
       "\\item 'air\\_time'\n",
       "\\item 'distance'\n",
       "\\item 'hour'\n",
       "\\item 'minute'\n",
       "\\item 'time\\_hour'\n",
       "\\end{enumerate*}\n"
      ],
      "text/markdown": [
       "1. 'year'\n",
       "2. 'month'\n",
       "3. 'day'\n",
       "4. 'dep_time'\n",
       "5. 'sched_dep_time'\n",
       "6. 'dep_delay'\n",
       "7. 'arr_time'\n",
       "8. 'sched_arr_time'\n",
       "9. 'arr_delay'\n",
       "10. 'carrier'\n",
       "11. 'flight'\n",
       "12. 'tailnum'\n",
       "13. 'origin'\n",
       "14. 'dest'\n",
       "15. 'air_time'\n",
       "16. 'distance'\n",
       "17. 'hour'\n",
       "18. 'minute'\n",
       "19. 'time_hour'\n",
       "\n",
       "\n"
      ],
      "text/plain": [
       " [1] \"year\"           \"month\"          \"day\"            \"dep_time\"      \n",
       " [5] \"sched_dep_time\" \"dep_delay\"      \"arr_time\"       \"sched_arr_time\"\n",
       " [9] \"arr_delay\"      \"carrier\"        \"flight\"         \"tailnum\"       \n",
       "[13] \"origin\"         \"dest\"           \"air_time\"       \"distance\"      \n",
       "[17] \"hour\"           \"minute\"         \"time_hour\"     "
      ]
     },
     "metadata": {},
     "output_type": "display_data"
    },
    {
     "data": {
      "text/html": [
       "<style>\n",
       ".list-inline {list-style: none; margin:0; padding: 0}\n",
       ".list-inline>li {display: inline-block}\n",
       ".list-inline>li:not(:last-child)::after {content: \"\\00b7\"; padding: 0 .5ex}\n",
       "</style>\n",
       "<ol class=list-inline><li>'tailnum'</li><li>'year'</li><li>'type'</li><li>'manufacturer'</li><li>'model'</li><li>'engines'</li><li>'seats'</li><li>'speed'</li><li>'engine'</li></ol>\n"
      ],
      "text/latex": [
       "\\begin{enumerate*}\n",
       "\\item 'tailnum'\n",
       "\\item 'year'\n",
       "\\item 'type'\n",
       "\\item 'manufacturer'\n",
       "\\item 'model'\n",
       "\\item 'engines'\n",
       "\\item 'seats'\n",
       "\\item 'speed'\n",
       "\\item 'engine'\n",
       "\\end{enumerate*}\n"
      ],
      "text/markdown": [
       "1. 'tailnum'\n",
       "2. 'year'\n",
       "3. 'type'\n",
       "4. 'manufacturer'\n",
       "5. 'model'\n",
       "6. 'engines'\n",
       "7. 'seats'\n",
       "8. 'speed'\n",
       "9. 'engine'\n",
       "\n",
       "\n"
      ],
      "text/plain": [
       "[1] \"tailnum\"      \"year\"         \"type\"         \"manufacturer\" \"model\"       \n",
       "[6] \"engines\"      \"seats\"        \"speed\"        \"engine\"      "
      ]
     },
     "metadata": {},
     "output_type": "display_data"
    }
   ],
   "source": [
    "names(flights)\n",
    "names(planes)"
   ]
  },
  {
   "cell_type": "code",
   "execution_count": 17,
   "metadata": {},
   "outputs": [
    {
     "data": {
      "text/html": [
       "<table class=\"dataframe\">\n",
       "<caption>A tibble: 6 × 16</caption>\n",
       "<thead>\n",
       "\t<tr><th scope=col>year.x</th><th scope=col>month</th><th scope=col>day</th><th scope=col>hour</th><th scope=col>origin</th><th scope=col>dest</th><th scope=col>tailnum</th><th scope=col>carrier</th><th scope=col>year.y</th><th scope=col>type</th><th scope=col>manufacturer</th><th scope=col>model</th><th scope=col>engines</th><th scope=col>seats</th><th scope=col>speed</th><th scope=col>engine</th></tr>\n",
       "\t<tr><th scope=col>&lt;int&gt;</th><th scope=col>&lt;int&gt;</th><th scope=col>&lt;int&gt;</th><th scope=col>&lt;dbl&gt;</th><th scope=col>&lt;chr&gt;</th><th scope=col>&lt;chr&gt;</th><th scope=col>&lt;chr&gt;</th><th scope=col>&lt;chr&gt;</th><th scope=col>&lt;int&gt;</th><th scope=col>&lt;chr&gt;</th><th scope=col>&lt;chr&gt;</th><th scope=col>&lt;chr&gt;</th><th scope=col>&lt;int&gt;</th><th scope=col>&lt;int&gt;</th><th scope=col>&lt;int&gt;</th><th scope=col>&lt;chr&gt;</th></tr>\n",
       "</thead>\n",
       "<tbody>\n",
       "\t<tr><td>2013</td><td>1</td><td>1</td><td>5</td><td>EWR</td><td>IAH</td><td>N14228</td><td>UA</td><td>1999</td><td>Fixed wing multi engine</td><td>BOEING</td><td>737-824  </td><td>2</td><td>149</td><td>NA</td><td>Turbo-fan</td></tr>\n",
       "\t<tr><td>2013</td><td>1</td><td>1</td><td>5</td><td>LGA</td><td>IAH</td><td>N24211</td><td>UA</td><td>1998</td><td>Fixed wing multi engine</td><td>BOEING</td><td>737-824  </td><td>2</td><td>149</td><td>NA</td><td>Turbo-fan</td></tr>\n",
       "\t<tr><td>2013</td><td>1</td><td>1</td><td>5</td><td>JFK</td><td>MIA</td><td>N619AA</td><td>AA</td><td>1990</td><td>Fixed wing multi engine</td><td>BOEING</td><td>757-223  </td><td>2</td><td>178</td><td>NA</td><td>Turbo-fan</td></tr>\n",
       "\t<tr><td>2013</td><td>1</td><td>1</td><td>5</td><td>JFK</td><td>BQN</td><td>N804JB</td><td>B6</td><td>2012</td><td>Fixed wing multi engine</td><td>AIRBUS</td><td>A320-232 </td><td>2</td><td>200</td><td>NA</td><td>Turbo-fan</td></tr>\n",
       "\t<tr><td>2013</td><td>1</td><td>1</td><td>6</td><td>LGA</td><td>ATL</td><td>N668DN</td><td>DL</td><td>1991</td><td>Fixed wing multi engine</td><td>BOEING</td><td>757-232  </td><td>2</td><td>178</td><td>NA</td><td>Turbo-fan</td></tr>\n",
       "\t<tr><td>2013</td><td>1</td><td>1</td><td>5</td><td>EWR</td><td>ORD</td><td>N39463</td><td>UA</td><td>2012</td><td>Fixed wing multi engine</td><td>BOEING</td><td>737-924ER</td><td>2</td><td>191</td><td>NA</td><td>Turbo-fan</td></tr>\n",
       "</tbody>\n",
       "</table>\n"
      ],
      "text/latex": [
       "A tibble: 6 × 16\n",
       "\\begin{tabular}{llllllllllllllll}\n",
       " year.x & month & day & hour & origin & dest & tailnum & carrier & year.y & type & manufacturer & model & engines & seats & speed & engine\\\\\n",
       " <int> & <int> & <int> & <dbl> & <chr> & <chr> & <chr> & <chr> & <int> & <chr> & <chr> & <chr> & <int> & <int> & <int> & <chr>\\\\\n",
       "\\hline\n",
       "\t 2013 & 1 & 1 & 5 & EWR & IAH & N14228 & UA & 1999 & Fixed wing multi engine & BOEING & 737-824   & 2 & 149 & NA & Turbo-fan\\\\\n",
       "\t 2013 & 1 & 1 & 5 & LGA & IAH & N24211 & UA & 1998 & Fixed wing multi engine & BOEING & 737-824   & 2 & 149 & NA & Turbo-fan\\\\\n",
       "\t 2013 & 1 & 1 & 5 & JFK & MIA & N619AA & AA & 1990 & Fixed wing multi engine & BOEING & 757-223   & 2 & 178 & NA & Turbo-fan\\\\\n",
       "\t 2013 & 1 & 1 & 5 & JFK & BQN & N804JB & B6 & 2012 & Fixed wing multi engine & AIRBUS & A320-232  & 2 & 200 & NA & Turbo-fan\\\\\n",
       "\t 2013 & 1 & 1 & 6 & LGA & ATL & N668DN & DL & 1991 & Fixed wing multi engine & BOEING & 757-232   & 2 & 178 & NA & Turbo-fan\\\\\n",
       "\t 2013 & 1 & 1 & 5 & EWR & ORD & N39463 & UA & 2012 & Fixed wing multi engine & BOEING & 737-924ER & 2 & 191 & NA & Turbo-fan\\\\\n",
       "\\end{tabular}\n"
      ],
      "text/markdown": [
       "\n",
       "A tibble: 6 × 16\n",
       "\n",
       "| year.x &lt;int&gt; | month &lt;int&gt; | day &lt;int&gt; | hour &lt;dbl&gt; | origin &lt;chr&gt; | dest &lt;chr&gt; | tailnum &lt;chr&gt; | carrier &lt;chr&gt; | year.y &lt;int&gt; | type &lt;chr&gt; | manufacturer &lt;chr&gt; | model &lt;chr&gt; | engines &lt;int&gt; | seats &lt;int&gt; | speed &lt;int&gt; | engine &lt;chr&gt; |\n",
       "|---|---|---|---|---|---|---|---|---|---|---|---|---|---|---|---|\n",
       "| 2013 | 1 | 1 | 5 | EWR | IAH | N14228 | UA | 1999 | Fixed wing multi engine | BOEING | 737-824   | 2 | 149 | NA | Turbo-fan |\n",
       "| 2013 | 1 | 1 | 5 | LGA | IAH | N24211 | UA | 1998 | Fixed wing multi engine | BOEING | 737-824   | 2 | 149 | NA | Turbo-fan |\n",
       "| 2013 | 1 | 1 | 5 | JFK | MIA | N619AA | AA | 1990 | Fixed wing multi engine | BOEING | 757-223   | 2 | 178 | NA | Turbo-fan |\n",
       "| 2013 | 1 | 1 | 5 | JFK | BQN | N804JB | B6 | 2012 | Fixed wing multi engine | AIRBUS | A320-232  | 2 | 200 | NA | Turbo-fan |\n",
       "| 2013 | 1 | 1 | 6 | LGA | ATL | N668DN | DL | 1991 | Fixed wing multi engine | BOEING | 757-232   | 2 | 178 | NA | Turbo-fan |\n",
       "| 2013 | 1 | 1 | 5 | EWR | ORD | N39463 | UA | 2012 | Fixed wing multi engine | BOEING | 737-924ER | 2 | 191 | NA | Turbo-fan |\n",
       "\n"
      ],
      "text/plain": [
       "  year.x month day hour origin dest tailnum carrier year.y\n",
       "1 2013   1     1   5    EWR    IAH  N14228  UA      1999  \n",
       "2 2013   1     1   5    LGA    IAH  N24211  UA      1998  \n",
       "3 2013   1     1   5    JFK    MIA  N619AA  AA      1990  \n",
       "4 2013   1     1   5    JFK    BQN  N804JB  B6      2012  \n",
       "5 2013   1     1   6    LGA    ATL  N668DN  DL      1991  \n",
       "6 2013   1     1   5    EWR    ORD  N39463  UA      2012  \n",
       "  type                    manufacturer model     engines seats speed engine   \n",
       "1 Fixed wing multi engine BOEING       737-824   2       149   NA    Turbo-fan\n",
       "2 Fixed wing multi engine BOEING       737-824   2       149   NA    Turbo-fan\n",
       "3 Fixed wing multi engine BOEING       757-223   2       178   NA    Turbo-fan\n",
       "4 Fixed wing multi engine AIRBUS       A320-232  2       200   NA    Turbo-fan\n",
       "5 Fixed wing multi engine BOEING       757-232   2       178   NA    Turbo-fan\n",
       "6 Fixed wing multi engine BOEING       737-924ER 2       191   NA    Turbo-fan"
      ]
     },
     "metadata": {},
     "output_type": "display_data"
    }
   ],
   "source": [
    "flights2 %>% \n",
    "  left_join(planes, by = \"tailnum\") %>% head"
   ]
  },
  {
   "cell_type": "markdown",
   "metadata": {},
   "source": [
    "Note that the year variables (which appear in both input data frames, but are not constrained to be equal) are disambiguated in the output with a suffix."
   ]
  },
  {
   "cell_type": "markdown",
   "metadata": {},
   "source": [
    "3. A named character vector: by = c(\"a\" = \"b\"). This will match variable a in table x to variable b in table y. The variables from x will be used in the output. For example, if we want to draw a map we need to combine the flights data with the airports data which contains the location (lat and lon) of each airport. Each flight has an origin and destination airport, so we need to specify which one we want to join to:"
   ]
  },
  {
   "cell_type": "code",
   "execution_count": 18,
   "metadata": {},
   "outputs": [
    {
     "data": {
      "text/html": [
       "<table class=\"dataframe\">\n",
       "<caption>A tibble: 6 × 15</caption>\n",
       "<thead>\n",
       "\t<tr><th scope=col>year</th><th scope=col>month</th><th scope=col>day</th><th scope=col>hour</th><th scope=col>origin</th><th scope=col>dest</th><th scope=col>tailnum</th><th scope=col>carrier</th><th scope=col>name</th><th scope=col>lat</th><th scope=col>lon</th><th scope=col>alt</th><th scope=col>tz</th><th scope=col>dst</th><th scope=col>tzone</th></tr>\n",
       "\t<tr><th scope=col>&lt;int&gt;</th><th scope=col>&lt;int&gt;</th><th scope=col>&lt;int&gt;</th><th scope=col>&lt;dbl&gt;</th><th scope=col>&lt;chr&gt;</th><th scope=col>&lt;chr&gt;</th><th scope=col>&lt;chr&gt;</th><th scope=col>&lt;chr&gt;</th><th scope=col>&lt;chr&gt;</th><th scope=col>&lt;dbl&gt;</th><th scope=col>&lt;dbl&gt;</th><th scope=col>&lt;dbl&gt;</th><th scope=col>&lt;dbl&gt;</th><th scope=col>&lt;chr&gt;</th><th scope=col>&lt;chr&gt;</th></tr>\n",
       "</thead>\n",
       "<tbody>\n",
       "\t<tr><td>2013</td><td>1</td><td>1</td><td>5</td><td>EWR</td><td>IAH</td><td>N14228</td><td>UA</td><td>George Bush Intercontinental   </td><td>29.98443</td><td>-95.34144</td><td>  97</td><td>-6</td><td>A </td><td>America/Chicago </td></tr>\n",
       "\t<tr><td>2013</td><td>1</td><td>1</td><td>5</td><td>LGA</td><td>IAH</td><td>N24211</td><td>UA</td><td>George Bush Intercontinental   </td><td>29.98443</td><td>-95.34144</td><td>  97</td><td>-6</td><td>A </td><td>America/Chicago </td></tr>\n",
       "\t<tr><td>2013</td><td>1</td><td>1</td><td>5</td><td>JFK</td><td>MIA</td><td>N619AA</td><td>AA</td><td>Miami Intl                     </td><td>25.79325</td><td>-80.29056</td><td>   8</td><td>-5</td><td>A </td><td>America/New_York</td></tr>\n",
       "\t<tr><td>2013</td><td>1</td><td>1</td><td>5</td><td>JFK</td><td>BQN</td><td>N804JB</td><td>B6</td><td>NA                             </td><td>      NA</td><td>       NA</td><td>  NA</td><td>NA</td><td>NA</td><td>NA              </td></tr>\n",
       "\t<tr><td>2013</td><td>1</td><td>1</td><td>6</td><td>LGA</td><td>ATL</td><td>N668DN</td><td>DL</td><td>Hartsfield Jackson Atlanta Intl</td><td>33.63672</td><td>-84.42807</td><td>1026</td><td>-5</td><td>A </td><td>America/New_York</td></tr>\n",
       "\t<tr><td>2013</td><td>1</td><td>1</td><td>5</td><td>EWR</td><td>ORD</td><td>N39463</td><td>UA</td><td>Chicago Ohare Intl             </td><td>41.97860</td><td>-87.90484</td><td> 668</td><td>-6</td><td>A </td><td>America/Chicago </td></tr>\n",
       "</tbody>\n",
       "</table>\n"
      ],
      "text/latex": [
       "A tibble: 6 × 15\n",
       "\\begin{tabular}{lllllllllllllll}\n",
       " year & month & day & hour & origin & dest & tailnum & carrier & name & lat & lon & alt & tz & dst & tzone\\\\\n",
       " <int> & <int> & <int> & <dbl> & <chr> & <chr> & <chr> & <chr> & <chr> & <dbl> & <dbl> & <dbl> & <dbl> & <chr> & <chr>\\\\\n",
       "\\hline\n",
       "\t 2013 & 1 & 1 & 5 & EWR & IAH & N14228 & UA & George Bush Intercontinental    & 29.98443 & -95.34144 &   97 & -6 & A  & America/Chicago \\\\\n",
       "\t 2013 & 1 & 1 & 5 & LGA & IAH & N24211 & UA & George Bush Intercontinental    & 29.98443 & -95.34144 &   97 & -6 & A  & America/Chicago \\\\\n",
       "\t 2013 & 1 & 1 & 5 & JFK & MIA & N619AA & AA & Miami Intl                      & 25.79325 & -80.29056 &    8 & -5 & A  & America/New\\_York\\\\\n",
       "\t 2013 & 1 & 1 & 5 & JFK & BQN & N804JB & B6 & NA                              &       NA &        NA &   NA & NA & NA & NA              \\\\\n",
       "\t 2013 & 1 & 1 & 6 & LGA & ATL & N668DN & DL & Hartsfield Jackson Atlanta Intl & 33.63672 & -84.42807 & 1026 & -5 & A  & America/New\\_York\\\\\n",
       "\t 2013 & 1 & 1 & 5 & EWR & ORD & N39463 & UA & Chicago Ohare Intl              & 41.97860 & -87.90484 &  668 & -6 & A  & America/Chicago \\\\\n",
       "\\end{tabular}\n"
      ],
      "text/markdown": [
       "\n",
       "A tibble: 6 × 15\n",
       "\n",
       "| year &lt;int&gt; | month &lt;int&gt; | day &lt;int&gt; | hour &lt;dbl&gt; | origin &lt;chr&gt; | dest &lt;chr&gt; | tailnum &lt;chr&gt; | carrier &lt;chr&gt; | name &lt;chr&gt; | lat &lt;dbl&gt; | lon &lt;dbl&gt; | alt &lt;dbl&gt; | tz &lt;dbl&gt; | dst &lt;chr&gt; | tzone &lt;chr&gt; |\n",
       "|---|---|---|---|---|---|---|---|---|---|---|---|---|---|---|\n",
       "| 2013 | 1 | 1 | 5 | EWR | IAH | N14228 | UA | George Bush Intercontinental    | 29.98443 | -95.34144 |   97 | -6 | A  | America/Chicago  |\n",
       "| 2013 | 1 | 1 | 5 | LGA | IAH | N24211 | UA | George Bush Intercontinental    | 29.98443 | -95.34144 |   97 | -6 | A  | America/Chicago  |\n",
       "| 2013 | 1 | 1 | 5 | JFK | MIA | N619AA | AA | Miami Intl                      | 25.79325 | -80.29056 |    8 | -5 | A  | America/New_York |\n",
       "| 2013 | 1 | 1 | 5 | JFK | BQN | N804JB | B6 | NA                              |       NA |        NA |   NA | NA | NA | NA               |\n",
       "| 2013 | 1 | 1 | 6 | LGA | ATL | N668DN | DL | Hartsfield Jackson Atlanta Intl | 33.63672 | -84.42807 | 1026 | -5 | A  | America/New_York |\n",
       "| 2013 | 1 | 1 | 5 | EWR | ORD | N39463 | UA | Chicago Ohare Intl              | 41.97860 | -87.90484 |  668 | -6 | A  | America/Chicago  |\n",
       "\n"
      ],
      "text/plain": [
       "  year month day hour origin dest tailnum carrier\n",
       "1 2013 1     1   5    EWR    IAH  N14228  UA     \n",
       "2 2013 1     1   5    LGA    IAH  N24211  UA     \n",
       "3 2013 1     1   5    JFK    MIA  N619AA  AA     \n",
       "4 2013 1     1   5    JFK    BQN  N804JB  B6     \n",
       "5 2013 1     1   6    LGA    ATL  N668DN  DL     \n",
       "6 2013 1     1   5    EWR    ORD  N39463  UA     \n",
       "  name                            lat      lon       alt  tz dst\n",
       "1 George Bush Intercontinental    29.98443 -95.34144   97 -6 A  \n",
       "2 George Bush Intercontinental    29.98443 -95.34144   97 -6 A  \n",
       "3 Miami Intl                      25.79325 -80.29056    8 -5 A  \n",
       "4 NA                                    NA        NA   NA NA NA \n",
       "5 Hartsfield Jackson Atlanta Intl 33.63672 -84.42807 1026 -5 A  \n",
       "6 Chicago Ohare Intl              41.97860 -87.90484  668 -6 A  \n",
       "  tzone           \n",
       "1 America/Chicago \n",
       "2 America/Chicago \n",
       "3 America/New_York\n",
       "4 NA              \n",
       "5 America/New_York\n",
       "6 America/Chicago "
      ]
     },
     "metadata": {},
     "output_type": "display_data"
    }
   ],
   "source": [
    "flights2 %>% \n",
    "  left_join(airports, c(\"dest\" = \"faa\")) %>% head"
   ]
  },
  {
   "cell_type": "code",
   "execution_count": 19,
   "metadata": {},
   "outputs": [
    {
     "data": {
      "text/html": [
       "<table class=\"dataframe\">\n",
       "<caption>A tibble: 6 × 15</caption>\n",
       "<thead>\n",
       "\t<tr><th scope=col>year</th><th scope=col>month</th><th scope=col>day</th><th scope=col>hour</th><th scope=col>origin</th><th scope=col>dest</th><th scope=col>tailnum</th><th scope=col>carrier</th><th scope=col>name</th><th scope=col>lat</th><th scope=col>lon</th><th scope=col>alt</th><th scope=col>tz</th><th scope=col>dst</th><th scope=col>tzone</th></tr>\n",
       "\t<tr><th scope=col>&lt;int&gt;</th><th scope=col>&lt;int&gt;</th><th scope=col>&lt;int&gt;</th><th scope=col>&lt;dbl&gt;</th><th scope=col>&lt;chr&gt;</th><th scope=col>&lt;chr&gt;</th><th scope=col>&lt;chr&gt;</th><th scope=col>&lt;chr&gt;</th><th scope=col>&lt;chr&gt;</th><th scope=col>&lt;dbl&gt;</th><th scope=col>&lt;dbl&gt;</th><th scope=col>&lt;dbl&gt;</th><th scope=col>&lt;dbl&gt;</th><th scope=col>&lt;chr&gt;</th><th scope=col>&lt;chr&gt;</th></tr>\n",
       "</thead>\n",
       "<tbody>\n",
       "\t<tr><td>2013</td><td>1</td><td>1</td><td>5</td><td>EWR</td><td>IAH</td><td>N14228</td><td>UA</td><td>Newark Liberty Intl</td><td>40.69250</td><td>-74.16867</td><td>18</td><td>-5</td><td>A</td><td>America/New_York</td></tr>\n",
       "\t<tr><td>2013</td><td>1</td><td>1</td><td>5</td><td>LGA</td><td>IAH</td><td>N24211</td><td>UA</td><td>La Guardia         </td><td>40.77725</td><td>-73.87261</td><td>22</td><td>-5</td><td>A</td><td>America/New_York</td></tr>\n",
       "\t<tr><td>2013</td><td>1</td><td>1</td><td>5</td><td>JFK</td><td>MIA</td><td>N619AA</td><td>AA</td><td>John F Kennedy Intl</td><td>40.63975</td><td>-73.77893</td><td>13</td><td>-5</td><td>A</td><td>America/New_York</td></tr>\n",
       "\t<tr><td>2013</td><td>1</td><td>1</td><td>5</td><td>JFK</td><td>BQN</td><td>N804JB</td><td>B6</td><td>John F Kennedy Intl</td><td>40.63975</td><td>-73.77893</td><td>13</td><td>-5</td><td>A</td><td>America/New_York</td></tr>\n",
       "\t<tr><td>2013</td><td>1</td><td>1</td><td>6</td><td>LGA</td><td>ATL</td><td>N668DN</td><td>DL</td><td>La Guardia         </td><td>40.77725</td><td>-73.87261</td><td>22</td><td>-5</td><td>A</td><td>America/New_York</td></tr>\n",
       "\t<tr><td>2013</td><td>1</td><td>1</td><td>5</td><td>EWR</td><td>ORD</td><td>N39463</td><td>UA</td><td>Newark Liberty Intl</td><td>40.69250</td><td>-74.16867</td><td>18</td><td>-5</td><td>A</td><td>America/New_York</td></tr>\n",
       "</tbody>\n",
       "</table>\n"
      ],
      "text/latex": [
       "A tibble: 6 × 15\n",
       "\\begin{tabular}{lllllllllllllll}\n",
       " year & month & day & hour & origin & dest & tailnum & carrier & name & lat & lon & alt & tz & dst & tzone\\\\\n",
       " <int> & <int> & <int> & <dbl> & <chr> & <chr> & <chr> & <chr> & <chr> & <dbl> & <dbl> & <dbl> & <dbl> & <chr> & <chr>\\\\\n",
       "\\hline\n",
       "\t 2013 & 1 & 1 & 5 & EWR & IAH & N14228 & UA & Newark Liberty Intl & 40.69250 & -74.16867 & 18 & -5 & A & America/New\\_York\\\\\n",
       "\t 2013 & 1 & 1 & 5 & LGA & IAH & N24211 & UA & La Guardia          & 40.77725 & -73.87261 & 22 & -5 & A & America/New\\_York\\\\\n",
       "\t 2013 & 1 & 1 & 5 & JFK & MIA & N619AA & AA & John F Kennedy Intl & 40.63975 & -73.77893 & 13 & -5 & A & America/New\\_York\\\\\n",
       "\t 2013 & 1 & 1 & 5 & JFK & BQN & N804JB & B6 & John F Kennedy Intl & 40.63975 & -73.77893 & 13 & -5 & A & America/New\\_York\\\\\n",
       "\t 2013 & 1 & 1 & 6 & LGA & ATL & N668DN & DL & La Guardia          & 40.77725 & -73.87261 & 22 & -5 & A & America/New\\_York\\\\\n",
       "\t 2013 & 1 & 1 & 5 & EWR & ORD & N39463 & UA & Newark Liberty Intl & 40.69250 & -74.16867 & 18 & -5 & A & America/New\\_York\\\\\n",
       "\\end{tabular}\n"
      ],
      "text/markdown": [
       "\n",
       "A tibble: 6 × 15\n",
       "\n",
       "| year &lt;int&gt; | month &lt;int&gt; | day &lt;int&gt; | hour &lt;dbl&gt; | origin &lt;chr&gt; | dest &lt;chr&gt; | tailnum &lt;chr&gt; | carrier &lt;chr&gt; | name &lt;chr&gt; | lat &lt;dbl&gt; | lon &lt;dbl&gt; | alt &lt;dbl&gt; | tz &lt;dbl&gt; | dst &lt;chr&gt; | tzone &lt;chr&gt; |\n",
       "|---|---|---|---|---|---|---|---|---|---|---|---|---|---|---|\n",
       "| 2013 | 1 | 1 | 5 | EWR | IAH | N14228 | UA | Newark Liberty Intl | 40.69250 | -74.16867 | 18 | -5 | A | America/New_York |\n",
       "| 2013 | 1 | 1 | 5 | LGA | IAH | N24211 | UA | La Guardia          | 40.77725 | -73.87261 | 22 | -5 | A | America/New_York |\n",
       "| 2013 | 1 | 1 | 5 | JFK | MIA | N619AA | AA | John F Kennedy Intl | 40.63975 | -73.77893 | 13 | -5 | A | America/New_York |\n",
       "| 2013 | 1 | 1 | 5 | JFK | BQN | N804JB | B6 | John F Kennedy Intl | 40.63975 | -73.77893 | 13 | -5 | A | America/New_York |\n",
       "| 2013 | 1 | 1 | 6 | LGA | ATL | N668DN | DL | La Guardia          | 40.77725 | -73.87261 | 22 | -5 | A | America/New_York |\n",
       "| 2013 | 1 | 1 | 5 | EWR | ORD | N39463 | UA | Newark Liberty Intl | 40.69250 | -74.16867 | 18 | -5 | A | America/New_York |\n",
       "\n"
      ],
      "text/plain": [
       "  year month day hour origin dest tailnum carrier name                lat     \n",
       "1 2013 1     1   5    EWR    IAH  N14228  UA      Newark Liberty Intl 40.69250\n",
       "2 2013 1     1   5    LGA    IAH  N24211  UA      La Guardia          40.77725\n",
       "3 2013 1     1   5    JFK    MIA  N619AA  AA      John F Kennedy Intl 40.63975\n",
       "4 2013 1     1   5    JFK    BQN  N804JB  B6      John F Kennedy Intl 40.63975\n",
       "5 2013 1     1   6    LGA    ATL  N668DN  DL      La Guardia          40.77725\n",
       "6 2013 1     1   5    EWR    ORD  N39463  UA      Newark Liberty Intl 40.69250\n",
       "  lon       alt tz dst tzone           \n",
       "1 -74.16867 18  -5 A   America/New_York\n",
       "2 -73.87261 22  -5 A   America/New_York\n",
       "3 -73.77893 13  -5 A   America/New_York\n",
       "4 -73.77893 13  -5 A   America/New_York\n",
       "5 -73.87261 22  -5 A   America/New_York\n",
       "6 -74.16867 18  -5 A   America/New_York"
      ]
     },
     "metadata": {},
     "output_type": "display_data"
    }
   ],
   "source": [
    "flights2 %>% \n",
    "  left_join(airports, c(\"origin\" = \"faa\")) %>% head"
   ]
  },
  {
   "cell_type": "code",
   "execution_count": null,
   "metadata": {},
   "outputs": [],
   "source": []
  }
 ],
 "metadata": {
  "kernelspec": {
   "display_name": "R",
   "language": "R",
   "name": "ir"
  },
  "language_info": {
   "codemirror_mode": "r",
   "file_extension": ".r",
   "mimetype": "text/x-r-source",
   "name": "R",
   "pygments_lexer": "r",
   "version": "4.1.1"
  }
 },
 "nbformat": 4,
 "nbformat_minor": 2
}
